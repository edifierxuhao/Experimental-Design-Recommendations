{
 "cells": [
  {
   "cell_type": "markdown",
   "metadata": {},
   "source": [
    "## Resources for Review\n",
    "The example in the next part of the lesson assumes you are familiar with Gaussian and binomial distributions.\n",
    "\n",
    "Here are a few formulas that might be helpful:\n",
    "\n",
    "### Gaussian Distribution Formulas\n",
    "#### probability density function\n",
    "## $$f(x\\mid\\mu,\\sigma^2) = \\frac{1}{\\sqrt{2\\pi\\sigma^2}}e^{-\\frac{(x-\\mu)^2}{2\\sigma^2}}$$\n",
    "\n",
    "where:\n",
    "\n",
    "$\\mu$ is the mean\n",
    "\n",
    "$\\sigma$ is the standard deviation\n",
    "\n",
    "$\\sigma^2$ is the variance\n",
    "\n",
    "### Binomial Distribution Formulas\n",
    "\n",
    "### mean\n",
    "## $$\\mu = n * P$$\n",
    "\n",
    "In other words, a fair coin has a probability of a positive outcome (heads) p = 0.5. If you flip a coin 20 times, the mean would be 20 * 0.5 = 10; you'd expect to get 10 heads.\n",
    "\n",
    "### variance\n",
    "\n",
    "## $$\\sigma^2 = n * p * (1 - p) $$\n",
    "\n",
    "Continuing with the coin example, n would be the number of coin tosses and p would be the probability of getting heads.\n",
    "\n",
    "### standard deviation\n",
    "## $$\\sigma = \\sqrt{n * p * (1 - p)} $$\n",
    "\n",
    "or in other words, the standard deviation is the square root of the variance.\n",
    "\n",
    "### probability density function\n",
    "## $$f(k , n , p) = \\frac{n!}{k!(n - k)!}p^k(1-p)^{(n-k)}$$"
   ]
  },
  {
   "cell_type": "markdown",
   "metadata": {},
   "source": [
    "# Lesson 1: Intro to Expeirment Design and Recommendation Engines\n",
    "\n",
    "## Experimental Design\n",
    "Within the experimental design portion of this course, there are three lessons:\n",
    "\n",
    "### I. Concepts of Experiment Design\n",
    "Here you will learn about what it means to run an experiment, and how this differs from observational studies. Topics include not only what to include in an experimental design, but also what to watch out for when designing an experiment.\n",
    "\n",
    "### II. Statistical Considerations in Testing\n",
    "In this lesson, you will learn about statistical techniques and considerations used when evaluating the data collected during an experiment. It is expected that you come into the course with knowledge about inferential statistics; the content here will see you applying that knowledge in different ways.\n",
    "\n",
    "### III. A/B Testing Case Study\n",
    "Here, you will put your skills to work to analyze data related to a change on a web page designed to increase purchasers of software.\n",
    "\n",
    "At the end of these lessons, you can complete an optional Portfolio Exercise in coordination with our industry partner Starbucks. In the project, you will learn more about how Starbucks conducts experiments. You will also get access to data related to a hiring screen that was once conducted by Starbucks to test ideas related to experimental design and statistical metrics.\n",
    "******\n",
    "## Recommendation Engines\n",
    "The recommendation engines portion of the course has two lessons:\n",
    "\n",
    "### I. Introduction to Recommendation Engines\n",
    "In this lesson, you will learn about the main ideas associated with recommendation engines. This includes techniques and measures of effectiveness.\n",
    "\n",
    "### II. Matrix Factorization for Recommendations\n",
    "Extending on the previous lesson, you will learn about one of the most popular techniques for recommendation engines known as FunkSVD. You will also complete a class that brings together a number of techniques to make recommendations for a number of different scenarios.\n",
    "******\n",
    "## Project\n",
    "At the end of this course, you will complete a project that uses data from the IBM Watson Studio platform to make recommendations for which articles a user should engage with! Hope you are excited to get started!"
   ]
  },
  {
   "cell_type": "markdown",
   "metadata": {},
   "source": [
    "# Lesson 2: Concepts in Experiment Design\n",
    "\n",
    "## Types of Study\n",
    "There are many ways in which data can be collected in order to test or understand the relationship between two variables of interest. These methods can be put into three main bins, based on the amount of control that you hold over the variables in play:\n",
    "\n",
    "- If you have a lot of control over features, then you have an **experiment**.\n",
    "- If you have no control over the features, then you have an **observational study**.\n",
    "- If you have some control, then you have a **quasi-experiment**.\n",
    "While the experiment is the main focus of this course, it's also useful to know about the other types of study so that you can use them in effective ways, especially if an experiment cannot be run.\n",
    "\n",
    "## Experiments\n",
    "In the social and medical sciences, an experiment is defined by comparing outcomes between two or more groups, and ensuring equivalence between the compared groups except for the manipulation that we want to test. Our interest in an experiment is to see if a change in one feature has an effect in the value of a second feature, like seeing if changing the layout of a button on a website causes more visitors to click on it. Having multiple groups is necessary in order to compare the outcome for when we apply the manipulation to when we do not (e.g. old vs. new website layout), or to compare different levels of manipulation (e.g. drug dosages). We also need equivalence between groups so that we can be as sure as possible that the differences in the outcomes were only due to the difference in our manipulated feature.\n",
    "\n",
    "Equivalence between groups is typically carried out through some kind of randomization procedure. A **unit of analysis** is the entity under study, like a page view or a user in a web experiment. If we randomly assign our units of analysis to each group, then on the whole, we should expect the feature distributions between groups to be about the same. This theoretically isolates the changes in the outcome to the changes in our manipulated feature. Of course, we can always dig deeper afterwards to see if certain other features worked in tandem with, or against, our manipulation.\n",
    "\n",
    "## Observational Studies\n",
    "In an experiment, we exert a lot of control on a system in order to narrow down the changes in our system from one source to one output. Observational studies, on the other hand, are defined by a lack of control. Observational studies are also known as naturalistic or correlational studies. In an observational study, no control is exerted on the variables of interest, perhaps due to ethical concerns or a lack of power to enact the manipulation. This often comes up in medical studies. For example, if we want to look at the effects of smoking on health, the potential risks make it unethical to force people into smoking behaviors. Instead, we need to rely on existing data or groups to make our determinations.\n",
    "\n",
    "We typically cannot infer causality in an observational study due to our lack of control over the variables. Any relationship observed between variables may be due to unobserved features, or the direction of causality might be uncertain. (We'll discuss this more later in the lesson.) But simply because an observational study does not imply causation does not mean that it is not useful. An interesting relationship might be the spark needed to perform additional studies or to collect more data. These studies can help strengthen the understanding of the relationship we're interested in by ruling out more and more alternative hypotheses.\n",
    "\n",
    "## Quasi-Experiments\n",
    "In between the observational study and the experiment is the quasi-experiment. This is where some, but not all, of the control requirements of a true experiment are met. For example, rolling out a new website interface to all users to see how much time they spend on it might be considered a quasi-experiment. While the manipulation is controlled by the experimenter, there aren't multiple groups to compare. The experimenter can still use the behavior of the population pre-change and compare that to behaviors post-change, to make judgment on the effects of the change. However, there is the possibility that there are other effects outside of the manipulation that caused the observed changes in behavior. For the example earlier in this paragraph, it might be that users would have naturally gravitated to higher usage rates, regardless of the website interface.\n",
    "\n",
    "As another example, we might have two different groups upon which to make a comparison of outcomes, but the original groups themselves might not be equivalent. A classic example of this is if a researcher wants to test some new supplemental materials for a high school course. If they select two different schools, one with the new materials and one without, we have a quasi-experiment since the differing qualities of students or teachers at those schools might have an effect on the outcomes. Ideally, we'd like to match the two schools before the test as closely as possible, but we can't call it a true experiment since the assignment of student to school can't be considered random.\n",
    "\n",
    "While a quasi-experiment may not have the same strength of causality inference as a true experiment, the results can still provide a strong amount of evidence for the relationship being investigated. This is especially true if some kind of matching is performed to identify similar units or groups. Another benefit of quasi-experimental designs is that the relaxation of requirements makes the quasi-experiment more flexible and easier to set up.\n",
    "\n",
    "## Additional Reading\n",
    "[This](https://www.nytimes.com/interactive/2018/07/18/upshot/nike-vaporfly-shoe-strava.html) fascinating New York Times article details different ways of investigating the claim that Nike's Vaporfly running shoes provide a significant advantage in running speed, despite not being able to run a true, randomized experiment."
   ]
  },
  {
   "cell_type": "markdown",
   "metadata": {},
   "source": [
    "## Types of Experiment\n",
    "Most of the time, when you think of an experiment, you think of a **between-subjects** experiment. In a between-subjects experiment, each unit only participates in, or sees, one of the conditions being used in the experiment. The simplest of these has just two groups or conditions to compare. In one group, we have either no manipulation, or maintenance of the status quo. This is like providing a known drug treatment, or an old version of a website. This is known as the **control group**. The other group includes the manipulation we wish to test, such as a new drug or new website layout. This is known as our **experimental group**. We can compare the outcomes between groups (e.g. recovery time or click-through rate) in order to make a judgement about the effect of our manipulation. (Since we have an experiment, we'll randomly assign each unit to either the control or experimental group.) For web-based experiments, this kind of basic experiment design is called an **A/B test**: the \"A\" group representing the old control, and \"B\" representing the new experimental change.\n",
    "\n",
    "We aren't limited to just two groups. We could have multiple experimental groups to compare, rather than just one control group and one experimental group. This could form an A/B/C test for a web-based experiment, with control group \"A\" and experimental groups \"B\" and \"C\".\n",
    "\n",
    "If an individual completes all conditions, rather than just one, this is known as a **within-subjects** design. Within-subjects designs are also known as repeated measures designs. By measuring an individual's output in all conditions, we know that the distribution of features in the groups will be equivalent. We can account for individuals' aptitudes or inclinations in our analysis. For example, if an individual rates three different color palettes for a product, we can know if a high rating for one palette is particularly good compared to the others (e.g. 10 vs. 5, 6) or if it's not a major distinction (e.g. 10 vs. 8, 9).\n",
    "\n",
    "Randomization still has a part in the within-subjects design in the order in which individuals complete conditions. This is important to reduce potential bias effects, as will be discussed later in the lesson. One other downside of the within-subjects design is that it's not always possible to pull off a within-subjects design. For example, when a user visits a website and completes their session, we usually can't guarantee when they'll come back. The purpose of their following visit also might not be comparable to their first. It can take a lot more effort in control in order to set up an effective within-subjects design.\n",
    "\n",
    "### Side Note: Factorial Designs\n",
    "Factorial designs manipulate the value of multiple features of interest. For example, with two independent manipulations \"X\" and \"Y\", we have four conditions: \"control\", \"X only\", \"Y only\", \"X and Y\". Experimental designs where multiple features are manipulated simultaneously are more frequently seen in engineering and physical sciences domains, where the system units tend to be under stricter control. They're less seen in the social and medical realms, where individual differences can impede experiment creation and analysis."
   ]
  },
  {
   "cell_type": "markdown",
   "metadata": {},
   "source": [
    "## Types of Sampling\n",
    "While web and other online experiments have an easy time collecting data, collecting data from traditional methods involving real populations is a much more difficult proposition. If you need to perform a survey of a population, it could be unreasonable in both time and money costs to try and collect thoughts from every single person in the population. This is where sampling comes in. The goal of sampling is to only take a subset of the population, using the responses from that subset to make an inference about the whole population. Here, we'll cover two basic probabilistic techniques that are commonly used.\n",
    "\n",
    "The simplest of these approaches is simple **random sampling**. In a simple random sample, each individual in the population has an equal chance of being selected. We just randomly make draws from the population until we have the sample size desired; your sample size depends on the level of uncertainty you are willing to have about the collected data. Since everyone has an equal chance of being drawn, we can expect the feature distribution of selected units to be similar to the distribution of the population as a whole. In addition, a simple random sample is easy to set up.\n",
    "\n",
    "However, it is possible that certain groups are underrepresented in a simple random sample, especially those that make up a low proportion of the population. If there are certain rarer subgroups of interest, it can be worth adding one additional step and performing **stratified random sampling**. In a stratified random sample, we need to first divide the entire population into disjoint groups, or strata. That is, each individual must be a part of one group, and only one group. For example, you could divide people by gender (male, female, other), or age (e.g. 18-25, 26-35, etc.).\n",
    "\n",
    "Then, from each group, you take a simple random sample. In a proportional sample, the sample size is proportional to how large the group is in the full population. For example, if you require 1000 data points, and stratified individuals of proportion {0.5, 0.3, 0.2}, then you would take 500 people from the first group, 300 from the second, and 200 from the third. This guarantees a certain level of knowledge from each subset, and theoretically a more representative overall inference on the population.\n",
    "\n",
    "An alternative approach is to take a nonproportional sample from each group. For example, we could simply sample 500 people from each group. Computing the overall statistics in this case requires weighting each group separately, but this extra effort offers a higher understanding of each subgroup in a deeper investigation.\n",
    "\n",
    "### Side Note: Non-Probabilistic Sampling\n",
    "As noted at the start, the goal of sampling is to use a subset of the whole population to make inferences about the full population, so that we didn't need to record data from everyone. To that end, probabilistic sampling techniques were described above to try and obtain a sample that was representative of the whole. However, it's useful to note that there also exist non-probabilistic sampling techniques that simplify the sampling process, at the risk of harming the validity of your results. (We'll discuss the term 'validity' later in the lesson.)\n",
    "\n",
    "For example, a convenience sample records information from readily available units. Studies performed in the social sciences at colleges often fall into this kind of sampling. The people participating in these tasks are often just college students, rather than representatives of the population at large. When performing inferences from this type of study, it's important to consider how well your results might apply to the population at large.\n",
    "\n",
    "One notable example of a convenience sample resulting in a grave error comes from the prediction made by magazine \"The Literary Digest\" on the 1936 U.S. presidential election. While they predicted a healthy victory by candidate Alf Landon, the final result ended with a landslide victory by opposing candidate Franklin D. Roosevelt. This major error is attributed to their methods capturing a non-representative sample of the population, which included looking at the results of a mail-in survey from their magazine readers. Since the mail-ins were voluntary, and the magazine subscribers were already not well-representative of the general population, focusing on the people who returned surveys gave a large bias toward Landon."
   ]
  },
  {
   "cell_type": "markdown",
   "metadata": {},
   "source": [
    "## Measuring Outcomes\n",
    "The goals of your study may not be the same as the way you evaluate the study's success. Perhaps this is because the goal is something that can't be measured directly. Let's say that you have an idea of a website addition that improves user satisfaction. How should we measure this? In order to evaluate whether or not this improvement has happened, you need to have a way to objectively measure the effect of the addition. For example, you might include a survey to random users to have them rate their website experience on a 1-10 scale. If the addition is helpful, then we should expect the average rating to be higher for those users who are given the addition, versus those who are not. The rating scale acts as a concrete way of measuring user satisfaction. These objective features by which you evaluate performance are known as **evaluation metrics**.\n",
    "\n",
    "As a rule of thumb, it's a good idea to consider the goals of a study separate from the evaluation metrics. This provides a couple of useful benefits. First, this makes it clear that the metric isn't the main point of a study: it's the implications of the metric relative to the goal that matters. This is especially important if a metric isn't directly attached to the goal. For example, measuring students' confidence going into a standardized test might be a proxy for the goal of test preparedness, in the absence of being able to get their test scores directly or in a timely fashion.\n",
    "\n",
    "Secondly, having the metric separate from the goal can clarify the purpose of conducting the study or experiment. It makes sure we can answer the question of why we want to run a study or experiment. From the above example, we aren't measuring confidence just to make people feel good about themselves: we're doing it to try and improve their actual performances.\n",
    "\n",
    "### Side Note: Alternate Terminology\n",
    "You might hear other terminology for goals and evaluation metrics than those used in this course. In the social sciences, it's common to hear a \"construct\" as analogous to the goal or objective under investigation, and the \"operational definition\" as the way outcomes are measured. For example, the construct of \"reaction time\" could be operationally defined as \"time in milliseconds to click on the correctly indicated button.\"\n",
    "\n",
    "In general company operations, you might encounter the terms \"key results\" (KRs) or \"key performance indicators\" (KPIs) as ways of measuring progress against quarterly or annual \"objectives.\" These objectives and KRs / KPIs serve a similar purpose as study goals and evaluation metrics, and might even be driving factors in the creation of an experiment.\n",
    "\n",
    "### References\n",
    "Inspiration for the \"[number of searches](https://hackernoon.com/when-you-experiment-with-the-wrong-metrics-85c51cc594ee)\" metric shown in the video above came from this Hackernoon article on the Bing search engine."
   ]
  },
  {
   "cell_type": "markdown",
   "metadata": {},
   "source": [
    "## Creating Metrics\n",
    "### Funnels\n",
    "There are additional concepts and terms that are commonly used for designing experiments, especially for web-based studies. In a web experiment, you'll often think of the user **funnel**. A funnel is the flow of steps you expect a user of your product to take. Typically, the funnel ends at the place where your main evaluation metric is recorded, and includes a step where your experimental manipulation can be performed. For example, we might think of the following steps for someone to purchase a product in an online store:\n",
    "\n",
    "- Visit the site homepage\n",
    "- Search for a desired product or click on a product category\n",
    "- Click on a product image\n",
    "- Add the product to the cart\n",
    "- Check out and finalize purchase\n",
    "\n",
    "One property to note about user funnels is that typically there will be some dropoff in the users that move from step to step. This is much like how an actual funnel narrows from a large opening to a small exit. Outside of an experiment, funnels can be used to analyze user flows. Observations from these flows can then be used to motivate experiments to try and improve the dropoff rates.\n",
    "\n",
    "It's also worth noting that the flow through a funnel might be idealized compared to actual user practice. In the above example, users might perform multiple searches in a single session, or want to purchase multiple things. A user might access the site through a specific link, subverting the top part of the funnel. Refining the funnel and being specific about the kinds of events that are expected can help you create a consistent, reliable design and analysis.\n",
    "\n",
    "### Unit of Diversion\n",
    "Once you have a funnel, think about how you can implement your experimental manipulation in the funnel. If the goal of the above experiment was to change the way the site looks after a user clicks on a product image, we need to figure out a way to assign users to either a control group or experimental group. The place in which you make this assignment is known as the **unit of diversion**. Depending on the type of experiment you have, you might have different options for diversion, each with its own pros and cons:\n",
    "\n",
    "- Event-based diversion (e.g. pageview): Each time a user loads up the page of interest, the experimental condition is randomly rolled. Since this ignores previous visits, this can create an inconsistent experience, if the condition causes a user-visible change.\n",
    "- Cookie-based diversion: A cookie is stored on the user's device, which determines their experimental condition as long as the cookie remains on the device. Cookies don't require a user to have an account or be logged in, but can be subverted through anonymous browsing or a user just clearing out cookies.\n",
    "- Account-based diversion (e.g. User ID): User IDs are randomly divided into conditions. Account-based diversions are reliable, but requires users to have accounts and be logged in. This means that our pool of data might be limited in scope, and you'll need to consider the risks of using personally-identifiable information.\n",
    "\n",
    "When it comes to selecting a unit of diversion, the consistency of the experience required can be a major factor to consider. For the example provided, we need something more consistent than pageview events. So we then consider the cookie-based diversion. If the differences in interface between control and experiment are fairly minor, then we're probably okay with cookie-based diversion. But if we think that users will notice the change and we believe that it will have a major effect on experience, then we might be inclined to choose an account-based diversion.\n",
    "\n",
    "### Invariant and Evaluation Metrics\n",
    "A funnel will also be of benefit when it comes to deciding on metrics to track and analyze as part of the experiment. The immediate features that come out of a funnel come in the form of counts and ratios. For example, we could count the number of times a search results in a product being selected (a count), or the ratio of selections to searches as adjacent slices in the funnel (a ratio).\n",
    "\n",
    "There are two major categories that we can consider features: as *evaluation metrics* or as *invariant metrics*. **Evaluation metrics** were mentioned in the previous page as the metrics by which we compare groups. Ideally, we hope to see a difference between groups that will tell us if our manipulation was a success. We might want to see an increased click-through-rate from search results to products, or an increase in overall revenue. On the flip side, **invariant metrics** are metrics that we hope will not be different between groups. Metrics in this category serve to check that the experiment is running as expected. For example, in an experiment with cookie-based diversion, the number of cookies generated for each condition would be a good invariant metric. Another metric could compare the distribution of times in which cookies were generated, to check the bias in the randomization procedure.\n",
    "\n",
    "We're not limited to tracking just one metric of each type. It's not unusual to track multiple invariant metrics as checks on the system's integrity, or multiple evaluation metrics to check different potential facets of a manipulation's effects. Don't think that you need to track every possible metric, however. It's better to focus on a few key metrics, ignoring features that might be less reliable or highly correlated to other, more informative features. We'll discuss statistical considerations surrounding metrics in the next lesson."
   ]
  },
  {
   "cell_type": "markdown",
   "metadata": {},
   "source": [
    "## Controlling Variables\n",
    "If we want to determine causality between two features, there are two main things to control. First of all, we need to enact the manipulation on one of the features of interest, so that we know that it is causing the change in the other feature. In order to know that it was our manipulated variable and not any other, the second major control point is that we want to make sure that all other features are accounted for. These two requirements make the arguments for causality much stronger with an experiment compared to a quasi-experiment or observational study.\n",
    "\n",
    "If we aren't able to control all features or there is a lack of equivalence between groups, then we may be susceptible to **confounding variables**. The correlation observed between two variables might be due to changes in a third variable, rather than one causing the other. Another possibility is that there is a causal relationship between the two features, but it is an indirect relationship mediated by a third, intermediate variable. This intermediate variable might be a larger driver of the changes in the output, with the manipulated variable only having a direct effect on the intermediate feature.\n",
    "\n",
    "For the case where we see a relationship but don't perform a manipulation, we also need to be careful about the direction of effect. A relationship between variables \"A\" and \"B\" might be due to \"A\" having an effect on \"B\" or the reverse, \"B\" having an effect on \"A\". It might even be the case that \"A\" and \"B\" are related through some other function like a third variable.\n",
    "\n",
    "Additional Reference\n",
    "Wikipedia: [Correlation does not imply causation](https://en.wikipedia.org/wiki/Correlation_does_not_imply_causation) - Reference page with examples of how an observed correlation between two features might come about."
   ]
  },
  {
   "cell_type": "markdown",
   "metadata": {},
   "source": [
    "## Checking Validity\n",
    "When designing an experiment, it's important to keep in mind validity, which concerns how well conclusions can be supported. There are three major conceptual dimensions upon which validity can be assessed:\n",
    "\n",
    "- Construct Validity\n",
    "- Internal Validity\n",
    "- External Validity\n",
    "\n",
    "### Construct Validity\n",
    "Construct validity is tied to the earlier discussion of how well one's goals are aligned to the evaluation metrics used to evaluate it. Poor construct validity can come about when an evaluation metric does not actually measure something related to the desired outcome concept. Alternatively, it might be that a metric is ill-constructed, such that it does not make clear distinctions on the outcome concept.\n",
    "\n",
    "### Internal Validity\n",
    "Internal validity refers to the degree to which a causal relationship can be derived from an experiment's results. Controlling for and accounting for other variables is key to maintaining good internal validity. The previous page on controlling variables shows ways in which internal validity might not be met.\n",
    "\n",
    "### External Validity\n",
    "External validity is concerned with the ability of an experimental outcome to be generalized to a broader population. This is most relevant with experiments that involve sampling: how representative is the sample to the whole? For studies at academic institutions, a frequent question is if data collected using only college students can be generalized to other age or socioeconomic groups.\n",
    "\n",
    "### Future Content\n",
    "The text below the video will summarize and provide additional examples of the different facets of validity in an experiment: construct validity, internal validity, and external validity.\n",
    "\n",
    "At the end of the page, there will be a matching quiz, asking students to link types of validity to descriptions of various violations of validity."
   ]
  },
  {
   "cell_type": "markdown",
   "metadata": {},
   "source": [
    "## Checking Bias\n",
    "Biases in experiments are systematic effects that interfere with the interpretation of experimental results, mostly in terms of internal validity. Just as humans can have a lot of different biases, there are numerous ways in which an experiment can become unbalanced.\n",
    "\n",
    "### Sampling Bias\n",
    "Many experimental biases fall under the sampling bias umbrella. Sampling biases are those that cause our observations to not be representative of the population. For example, if assignment to experimental groups is done in an arbitrary fashion (as opposed to random assignment or matched groups), we risk our outcomes being based less on the experimental manipulation and more on the composition of the underlying groups.\n",
    "\n",
    "Studies that use surveys to collect data often have to deal with the **self-selection bias**. The types of people that respond to a survey might be qualitatively very different from those that do not. A straight average of responses would not necessarily reflect the feelings of the full population; weighting responses based on the differences between the observed responses and properties of the target population may be needed to come to reasonable conclusions.\n",
    "\n",
    "One type of sampling bias related to missing data is the **survivor bias**. Survivor bias is one where losses or dropout of observed units is not accounted for in an analysis. A key example of this was in British World War II operations research, where engineers avoided using survivor bias when they considered where to add armor to their planes. Rather than add armor to the spots where returning planes had bullet holes, armor was added to the spots where the planes didn't have bullet holes. That's because the planes that took shots to those places probably crashed, due to those locations being more vital for maintaining flight, so they didn't \"survive\" and weren't available for observation.\n",
    "\n",
    "### Novelty Bias\n",
    "A novelty effect is one that causes observers to change their behavior simply because they're seeing something new. We might not be able to gauge the true effect of a manipulation until after the novelty wears off and population metrics return to a level that actually reflects the changes made. This will be important for cases where we want to track changes over time, such as trying to get users to re-visit a webpage or use an app more frequently. Novelty is probably not a concern (or perhaps what we hope for) when it comes to manipulations that are expected to only have a one-shot effect.\n",
    "\n",
    "### Order Biases\n",
    "There are a couple of biases to be aware of when running a within-subjects experiment. Recall that in a within-subjects design, each participant performs a task or makes a rating in multiple experimental conditions, rather than just one. The order in which conditions are completed could have an effect on participant responses. A **primacy effect** is one that affects early conditions, perhaps biasing them to be recalled better or to serve as anchor values for later conditions. A **recency effect** is one that affects later conditions, perhaps causing bias due to being fresher in memory or task fatigue.\n",
    "\n",
    "An easy way of getting around order biases is to simply randomize the order of conditions. If we have three conditions, then each of the six ways of completing the task (ABC, ACB, BAC, BCA, CAB, CBA) should be equally likely. While there still might end up being order effects like carry-over effects, where a particular condition continues to have an effect on future conditions, this will be much easier to detect than if every participant completed the task in the exact same order of conditions.\n",
    "\n",
    "## Experimenter Bias\n",
    "One bias to watch out for, especially in face-to-face experiments, is the experimenter bias. This is where the presence or knowledge of the experimenter can affect participants' behaviors or performance. If an experimenter knows what condition a participant is in, they might subtly nudge the participant towards their expected result with their interactions with the participant. In addition, participants may act differently in the presence of an experimenter, to try and act in the 'right' way – regardless of if a subject actually knows what the experimenter is looking for or not.\n",
    "\n",
    "This is where design steps like blinding are important. In [blinding](https://en.wikipedia.org/wiki/Blinded_experiment), the administrator of a procedure or the participant do not know the condition being used, to avoid that subconscious bias from having an effect. In particular, the **double-blind** design hides condition information from both the administrator and participant in order to have a strong rein on experimenter-based biases."
   ]
  },
  {
   "cell_type": "markdown",
   "metadata": {},
   "source": [
    "## Ethics in Experimentation\n",
    "Before you run an experiment, it's important to consider the ethical treatments to which you subject your participants. Through the mid-20th century, exposure of questionable and clearly unethical research in the social and medical sciences spurred the creation of guidelines for ethical treatment of human subjects in studies and experiments. While different fields have developed different standards, they still have a number of major points in common:\n",
    "\n",
    "- **Minimize participant risk**: Experimenters are obligated to construct experiments that minimize the risks to participants in the study. Risk of harm isn't just in the physical sense, but also the mental sense. If an experimental condition has potential to negatively affect a participant's emotions or mentality, then it's worth thinking about if the risks are really necessary to perform the desired investigation.\n",
    "\n",
    "- **Have clear benefits for risks taken**: In some cases, risks may be unavoidable, and so they must be weighed against the benefits that may come from performing the study. When expectations for the study are not clearly defined, this throws into question the purpose of exposing subjects to risk. However, if the benefits are shown to be worth the risks, then it is still possible for the study to be run. This often comes up in medicine, where test treatments should show worthy potential against alternative approaches.\n",
    "\n",
    "- **Provide informed consent**: Building up somewhat from the previous two points, subjects should be informed of and agree to the risks and benefits of participation before they join the study or experiment. This is also an opportunity for a participant to opt out of participation. However, there are some cases where deception is necessary. This might be to avoid biasing the participant's behavior by seeding their expectations, or if there is a dummy task surrounding the actual test to be performed. In cases like this, it's important to include a debriefing after the subject's participation so that they don't come away from the task feeling mislead.\n",
    "\n",
    "- **Handle sensitive data appropriately**: If you're dealing with identifiable information in your study, make sure that you take appropriate steps to protect their anonymity from others. Sensitive information includes things like names, addresses, pictures, timestamps, and other links from personal identifiers to account information and history. Collected data should be anonymized as much as possible; surveys and census results are often also aggregated to avoid tracing outcomes back to any one person.\n",
    "\n",
    "In the formal sciences, an experiment proposal must go through a review board before it can be run, to ensure that ethical principles have been followed. It's likely that you won't have a review board to submit your designs to prior to running an experiment. You'll need to evaluate these principles for yourself or with your colleagues to check for potential ethical issues before going forward with a study design.\n",
    "\n",
    "One particular point worth further discussion is that of informed consent for web-based experiments. It's often the case that when an experiment is run, users who are included in an experiment often don't know that they're participating in an experiment. If a manipulation carries no risk and is so minor as to be hidden away from the user (e.g. a change in recommendation engine), perhaps there is no need for informed consent. And when it comes to bias, it's known that peoples' behaviors can change when they know they are under observation. **In practice, informed consent is often not considered when performing a web experiment**.\n",
    "\n",
    "However, informed consent is still an important ethical principle, so there is continuing debate on how to best obtain consent for users of a website. One option could be to allow users to opt out of experiment participation, with the default user agreement implying consent to participation in unobtrusive experiments. An opposing option would only run experiments on users who opt-_in_ to participation, asking the user to set their preference on their initial visit or registration. The opt-in approach is more in line with the core idea of informed consent, but also risks fewer users available for testing changes.\n",
    "\n",
    "### Examples in Experimental Ethics\n",
    "Here are three studies in the social and medical sciences that are often brought up as examples of violations of experimental ethics and progenitors of the movement to establish ethics guidelines and boards:\n",
    "\n",
    "- [Tuskegee Syphilis Study](https://en.wikipedia.org/wiki/Tuskegee_syphilis_experiment): This study was started in 1932, where hundreds of African-American men were tracked over the course of up to forty years to study the natural progression of syphilis. The subjects were denied treatment, even after the development of effective syphilis treatments like penicillin, and there were active steps taken to hide the truth of their conditions and treatments to the subjects.\n",
    "- [Milgram obedience study](https://en.wikipedia.org/wiki/Milgram_experiment): During the mid 1960s, psychologist Stanley Milgram tested to what degree people follow authority figures. Participants were asked to administer gradually increasing shocks to an acting confederate participant at the behest of a lead experimenter based on mistakes made on a dummy memory test used as a cover story. While no shocks were actually administered, the study did bing forth questions on what constitutes adequate debriefing and what level of information and informed consent needs to be provided to a participant in a study that includes necessary deceptive elements.\n",
    "- [Stanford Prison Experiment](https://en.wikipedia.org/wiki/Stanford_prison_experiment): This 1971 study conducted by psychologist Philip Zimbardo was built to test the dynamics and effects of power differences, using a prison scenario. Study volunteers were divided into prisoner and guard groups and their dynamics observed; the study had to be ended after less than a week due to the increasingly harsh conditions the 'guards' had settled into treating the 'prisoners'. It has since served as a major ground for ethical criticisms, violating now-established guidelines around risks to participants and clarity of purpose. There are also methodological criticisms, as experimenter biases may have shaped the behavior of the 'guards' group in their interactions with 'prisoners'.\n",
    "\n",
    "And here's a [Techcrunch article](https://techcrunch.com/2014/06/29/ethics-in-a-data-driven-world/) discussing the ethics of the 2014-published Facebook study on the impact of changing the affect of posts seen on users' feeds to their own posting habits.\n",
    "\n",
    "Additional Resources\n",
    "For further reading, here are a few links to documents both historical and current on how to conduct experiments involving humans:\n",
    "\n",
    "- [Nuremberg Code](https://history.nih.gov/research/downloads/nuremberg.pdf) - Ten principles for human subjects research stemming from the Nuremberg Trials published in 1949.\n",
    "- [The Belmont Report](https://www.hhs.gov/ohrp/regulations-and-policy/belmont-report/index.html) - 1979 report laying out general principles for research involving human subjects\n",
    "- [APA Ethics Code](https://www.apa.org/ethics/code/) - Guidelines published by the American Psychological Association for general psychological practices (not just research)\n",
    "- [BPS Code for Human Research Ethics](https://www.bps.org.uk/sites/www.bps.org.uk/files/Policy/Policy%20-%20Files/BPS%20Code%20of%20Human%20Research%20Ethics.pdf) - Code for human-subjects research published by the British Psychological Society\n"
   ]
  },
  {
   "cell_type": "markdown",
   "metadata": {},
   "source": [
    "## SMART Mnemonic for Experiment Design\n",
    "There's a mnemonic called **SMART** for teams to plan out projects that also happens to apply pretty well for creating experiments. The letters of SMART stand for:\n",
    "\n",
    "- **S**pecific: Make sure the goals of your experiment are specific.\n",
    "- **M**easurable: Outcomes must be measurable using objective metrics\n",
    "- **A**chievable: The steps taken for the experiment and the goals must be realistic.\n",
    "- **R**elevant: The experiment needs to have purpose behind it.\n",
    "- **T**imely: Results must be obtainable in a reasonable time frame.\n",
    "\n",
    "There are also other words possible for the mnemonic, such as **A**ctionable and **R**ealistic. Ultimately, however, the message is pretty much the same, with the dimensions switched around a bit. Note, however, that the mnemonic doesn't cover certain considerations important to experiment design. Considerations of **ethical** issues or **bias** will need to be considered separately, so don't just take the mnemonic as the final judge of whether your experiment is ready to proceed!\n",
    "\n"
   ]
  },
  {
   "cell_type": "markdown",
   "metadata": {},
   "source": [
    "## Review:\n",
    "- How control makes for an experiment\n",
    "- types of experiment\n",
    "- conceptual goals and objective metrics\n",
    "- pitfalls of validity and bias\n",
    "- Ethical experiment design\n",
    "\n",
    "prepare to download a pdf file."
   ]
  },
  {
   "cell_type": "markdown",
   "metadata": {},
   "source": [
    "# Lesson 3: Statistical Considerations in Testing"
   ]
  },
  {
   "cell_type": "markdown",
   "metadata": {},
   "source": [
    "## Practice: Statistical Significance\n",
    "\n",
    "Let's say that we've collected data for a web-based experiment. In the experiment, we're testing the change in layout of a product information page to see if this affects the proportion of people who click on a button to go to the download page. This experiment has been designed to have a cookie-based diversion, and we record two things from each user: which page version they received, and whether or not they accessed the download page during the data recording period. (We aren't keeping track of any other factors in this example, such as number of pageviews, or time between accessing the page and making the download, that might be of further interest.)\n",
    "\n",
    "Your objective in this notebook is to perform a statistical test on both recorded metrics to see if there is a statistical difference between the two groups."
   ]
  },
  {
   "cell_type": "code",
   "execution_count": 283,
   "metadata": {},
   "outputs": [],
   "source": [
    "# import packages\n",
    "\n",
    "import numpy as np\n",
    "import pandas as pd\n",
    "import scipy.stats as stats\n",
    "from statsmodels.stats import proportion as proptests\n",
    "\n",
    "import matplotlib.pyplot as plt\n",
    "%matplotlib inline"
   ]
  },
  {
   "cell_type": "code",
   "execution_count": 284,
   "metadata": {},
   "outputs": [
    {
     "name": "stdout",
     "output_type": "stream",
     "text": [
      "(999, 2)\n"
     ]
    },
    {
     "data": {
      "text/html": [
       "<div>\n",
       "<style scoped>\n",
       "    .dataframe tbody tr th:only-of-type {\n",
       "        vertical-align: middle;\n",
       "    }\n",
       "\n",
       "    .dataframe tbody tr th {\n",
       "        vertical-align: top;\n",
       "    }\n",
       "\n",
       "    .dataframe thead th {\n",
       "        text-align: right;\n",
       "    }\n",
       "</style>\n",
       "<table border=\"1\" class=\"dataframe\">\n",
       "  <thead>\n",
       "    <tr style=\"text-align: right;\">\n",
       "      <th></th>\n",
       "      <th>condition</th>\n",
       "      <th>click</th>\n",
       "    </tr>\n",
       "  </thead>\n",
       "  <tbody>\n",
       "    <tr>\n",
       "      <th>0</th>\n",
       "      <td>1</td>\n",
       "      <td>0</td>\n",
       "    </tr>\n",
       "    <tr>\n",
       "      <th>1</th>\n",
       "      <td>0</td>\n",
       "      <td>0</td>\n",
       "    </tr>\n",
       "    <tr>\n",
       "      <th>2</th>\n",
       "      <td>0</td>\n",
       "      <td>0</td>\n",
       "    </tr>\n",
       "    <tr>\n",
       "      <th>3</th>\n",
       "      <td>1</td>\n",
       "      <td>1</td>\n",
       "    </tr>\n",
       "    <tr>\n",
       "      <th>4</th>\n",
       "      <td>1</td>\n",
       "      <td>0</td>\n",
       "    </tr>\n",
       "    <tr>\n",
       "      <th>5</th>\n",
       "      <td>1</td>\n",
       "      <td>0</td>\n",
       "    </tr>\n",
       "    <tr>\n",
       "      <th>6</th>\n",
       "      <td>0</td>\n",
       "      <td>0</td>\n",
       "    </tr>\n",
       "    <tr>\n",
       "      <th>7</th>\n",
       "      <td>1</td>\n",
       "      <td>1</td>\n",
       "    </tr>\n",
       "    <tr>\n",
       "      <th>8</th>\n",
       "      <td>0</td>\n",
       "      <td>0</td>\n",
       "    </tr>\n",
       "    <tr>\n",
       "      <th>9</th>\n",
       "      <td>1</td>\n",
       "      <td>0</td>\n",
       "    </tr>\n",
       "  </tbody>\n",
       "</table>\n",
       "</div>"
      ],
      "text/plain": [
       "   condition  click\n",
       "0          1      0\n",
       "1          0      0\n",
       "2          0      0\n",
       "3          1      1\n",
       "4          1      0\n",
       "5          1      0\n",
       "6          0      0\n",
       "7          1      1\n",
       "8          0      0\n",
       "9          1      0"
      ]
     },
     "execution_count": 284,
     "metadata": {},
     "output_type": "execute_result"
    }
   ],
   "source": [
    "# import data\n",
    "\n",
    "data = pd.read_csv('statistical_significance_data.csv')\n",
    "print(data.shape)\n",
    "data.head(10)"
   ]
  },
  {
   "cell_type": "markdown",
   "metadata": {},
   "source": [
    "In the dataset, the 'condition' column takes a 0 for the control group, and 1 for the experimental group. The 'click' column takes a values of 0 for no click, and 1 for a click.\n",
    "\n",
    "## Checking the Invariant Metric\n",
    "\n",
    "First of all, we should check that the number of visitors assigned to each group is similar. It's important to check the invariant metrics as a prerequisite so that our inferences on the evaluation metrics are founded on solid ground. If we find that the two groups are imbalanced on the invariant metric, then this will require us to look carefully at how the visitors were split so that any sources of bias are accounted for. It's possible that a statistically significant difference in an invariant metric will require us to revise random assignment procedures and re-do data collection.\n",
    "\n",
    "In this case, we want to do a two-sided hypothesis test on the proportion of visitors assigned to one of our conditions. Choosing the control or the experimental condition doesn't matter: you'll get the same result either way. Feel free to use whatever method you'd like: we'll highlight two main avenues below.\n",
    "\n",
    "If you want to take a simulation-based approach, you can simulate the number of visitors that would be assigned to each group for the number of total observations, assuming that we have an expected 50/50 split. Do this many times (200 000 repetitions should provide a good speed-variability balance in this case) and then see in how many simulated cases we get as extreme or more extreme a deviation from 50/50 that we actually observed. Don't forget that, since we have a two-sided test, an extreme case also includes values on the opposite side of 50/50. (e.g. Since simulated outcomes of .48 and lower are considered as being more extreme than an actual observation of 0.48, so too will simulated outcomes of .52 and higher.) The proportion of flagged simulation outcomes gives us a p-value on which to assess our observed proportion. We hope to see a larger p-value, insufficient evidence to reject the null hypothesis.\n",
    "\n",
    "If you want to take an analytic approach, you could use the exact binomial distribution to compute a p-value for the test. The more usual approach, however, is to use the normal distribution approximation. Recall that this is possible thanks to our large sample size and the central limit theorem. To get a precise p-value, you should also perform a \n",
    "continuity correction, either adding or subtracting 0.5 to the total count before computing the area underneath the curve. (e.g. If we had 415 / 850 assigned to the control group, then the normal approximation would take the area to the left of $(415 + 0.5) / 850 = 0.489$ and to the right of $(435 - 0.5) / 850 = 0.511$.)\n",
    "\n",
    "You can check your results by completing the following the workspace and the solution on the following page. You could also try using multiple approaches and seeing if they come up with similar outcomes!"
   ]
  },
  {
   "cell_type": "markdown",
   "metadata": {},
   "source": [
    "### continuity correction factor\n",
    "In probability theory, a continuity correction is an adjustment that is made when a discrete distribution is approximated by a continuous distribution.\n",
    "```text\n",
    "if P(x=n), use P(n-0.5 <x< n+0.5)\n",
    "if P(x>n), use P(x> n+0.5)\n",
    "if P(x<=n), use P(x< n+0.5)\n",
    "if P(x<n), use P(x< n-0.5)\n",
    "if P(x>=n), use P(x> n-0.5)\n",
    "```\n",
    "\n",
    "then get z value:\n",
    "\n",
    "    z = (p - mean)/stdev\n",
    "\n",
    "get area:\n",
    "area = 1 - P(x>z)\n"
   ]
  },
  {
   "cell_type": "markdown",
   "metadata": {},
   "source": [
    "### $H_0$ is control and experience group number is the same, finally ,we want fail to rejuct the hypothese"
   ]
  },
  {
   "cell_type": "markdown",
   "metadata": {},
   "source": [
    "### Analytic Approach\n",
    "\n",
    "1. 样本是简单随机样本\n",
    "\n",
    "2. 总体标准差σ已知\n",
    "\n",
    "3. 总体是正态总体分布或n>30\n",
    "\n",
    "满足以上条件样本的均值符合Ex=μ ,Dx=σ^2/n的正态分布，转化为标准正态分布进行处理\n",
    "\n",
    "z=(x-μ)/σ/√n 符合N(0,1)分布\n",
    "\n",
    "二项分布总体的标准差是 √(pq) =  √(p(1-p))\n",
    "二项分布抽样的标准差是"
   ]
  },
  {
   "cell_type": "code",
   "execution_count": 286,
   "metadata": {},
   "outputs": [
    {
     "data": {
      "text/plain": [
       "(999, 491)"
      ]
     },
     "execution_count": 286,
     "metadata": {},
     "output_type": "execute_result"
    }
   ],
   "source": [
    "# get number of trials and number of 'successes'\n",
    "n_obs = data.shape[0]\n",
    "n_control = data.groupby('condition').size()[0]\n",
    "(n_obs, n_control)"
   ]
  },
  {
   "cell_type": "code",
   "execution_count": 288,
   "metadata": {},
   "outputs": [
    {
     "data": {
      "text/plain": [
       "(499.5, 15.803480629279107)"
      ]
     },
     "execution_count": 288,
     "metadata": {},
     "output_type": "execute_result"
    }
   ],
   "source": [
    "# Compute binomial distribution mean and stdev\n",
    "p = 0.5\n",
    "mean = n_obs * p\n",
    "sd = np.sqrt(p*(1-p)*n_obs)\n",
    "\n",
    "(mean,sd)"
   ]
  },
  {
   "cell_type": "code",
   "execution_count": 291,
   "metadata": {},
   "outputs": [
    {
     "name": "stdout",
     "output_type": "stream",
     "text": [
      "-0.5062175977346661\n"
     ]
    }
   ],
   "source": [
    "# standardlize the control number,for n_control is less than half of the n_obs\n",
    "# continuity correction requests add 0.5\n",
    "z = (n_control+0.5 - mean)/sd\n",
    "print(z)"
   ]
  },
  {
   "cell_type": "code",
   "execution_count": 292,
   "metadata": {},
   "outputs": [
    {
     "data": {
      "text/plain": [
       "0.3063519512768557"
      ]
     },
     "execution_count": 292,
     "metadata": {},
     "output_type": "execute_result"
    }
   ],
   "source": [
    "# get the probability of less than z value\n",
    "stats.norm.cdf(z)"
   ]
  },
  {
   "cell_type": "code",
   "execution_count": 293,
   "metadata": {},
   "outputs": [
    {
     "data": {
      "text/plain": [
       "0.6127039025537114"
      ]
     },
     "execution_count": 293,
     "metadata": {},
     "output_type": "execute_result"
    }
   ],
   "source": [
    "# compute the p-value\n",
    "p_value = 2 * stats.norm.cdf(z)\n",
    "p_value"
   ]
  },
  {
   "cell_type": "markdown",
   "metadata": {},
   "source": [
    "P_value is so large, we cannot reject the null hypothesis"
   ]
  },
  {
   "cell_type": "markdown",
   "metadata": {},
   "source": [
    "### Simulation Approach"
   ]
  },
  {
   "cell_type": "code",
   "execution_count": 16,
   "metadata": {},
   "outputs": [],
   "source": [
    "# get number of trials and number of 'successes'\n",
    "n_obs = data.shape[0]\n",
    "n_control = data.groupby('condition').size()[0]"
   ]
  },
  {
   "cell_type": "code",
   "execution_count": 25,
   "metadata": {},
   "outputs": [
    {
     "data": {
      "text/plain": [
       "(200000,)"
      ]
     },
     "execution_count": 25,
     "metadata": {},
     "output_type": "execute_result"
    }
   ],
   "source": [
    "# # simulate outcomes under null, compare to observed outcome\n",
    "p = 0.5\n",
    "n_trials = 200000\n",
    "\n",
    "samples = np.random.binomial(n_obs, p, n_trials)\n",
    "samples.shape"
   ]
  },
  {
   "cell_type": "code",
   "execution_count": 27,
   "metadata": {},
   "outputs": [
    {
     "data": {
      "text/plain": [
       "0.614395"
      ]
     },
     "execution_count": 27,
     "metadata": {},
     "output_type": "execute_result"
    }
   ],
   "source": [
    "# get the p-value\n",
    "p_value = np.mean(samples<=n_control)+np.mean(samples>=(n_obs-n_control))\n",
    "p_value"
   ]
  },
  {
   "cell_type": "markdown",
   "metadata": {},
   "source": [
    "## Checking the Evaluation Metric\n",
    "\n",
    "After performing our checks on the invariant metric, we can move on to performing a hypothesis test on the evaluation metric: the click-through rate. In this case, we want to see that the experimental group has a significantly larger click-through rate than the control group, a one-tailed test.\n",
    "\n",
    "The simulation approach for this metric isn't too different from the approach for the invariant metric. You'll need the overall click-through rate as the common proportion to draw simulated values from for each group. You may also want to perform more simulations since there's higher variance for this test.\n",
    "\n",
    "There's a few analytic approaches possible here, but you'll probably make use of the normal approximation again in these cases. In addition to the pooled click-through rate, you'll need a pooled standard deviation in order to compute a z-score. While there is a continuity correction possible in this case as well, it's much more conservative than the p-value that a simulation will usually imply.**Computing the z-score and resulting p-value without a continuity correction should be closer to the simulation's outcomes**, though slightly more optimistic about there being a statistical difference between groups.\n",
    "\n",
    "As with the previous question, you'll find a quiz and video following the workspace for you to check your results."
   ]
  },
  {
   "cell_type": "markdown",
   "metadata": {},
   "source": [
    "### $H_0$ is click rate of experiment group is less or equal to control group, we want to reject this hypothesis."
   ]
  },
  {
   "cell_type": "code",
   "execution_count": 31,
   "metadata": {},
   "outputs": [
    {
     "data": {
      "text/plain": [
       "condition\n",
       "0    0.079430\n",
       "1    0.112205\n",
       "Name: click, dtype: float64"
      ]
     },
     "execution_count": 31,
     "metadata": {},
     "output_type": "execute_result"
    }
   ],
   "source": [
    "# get the click rate of both groups\n",
    "p_click = data.groupby('condition').mean()['click']\n",
    "p_click\n"
   ]
  },
  {
   "cell_type": "code",
   "execution_count": 33,
   "metadata": {},
   "outputs": [
    {
     "data": {
      "text/plain": [
       "0.03277498917523293"
      ]
     },
     "execution_count": 33,
     "metadata": {},
     "output_type": "execute_result"
    }
   ],
   "source": [
    "diff = p_click[1] - p_click[0]\n",
    "diff"
   ]
  },
  {
   "cell_type": "markdown",
   "metadata": {},
   "source": [
    "### Simulation Approach"
   ]
  },
  {
   "cell_type": "code",
   "execution_count": 84,
   "metadata": {},
   "outputs": [],
   "source": [
    "# get number of trials and overall 'success' rate under null\n",
    "n_control = data.groupby('condition').size()[0]\n",
    "n_exper = data.groupby('condition').size()[1]\n",
    "p_null = data['click'].mean()"
   ]
  },
  {
   "cell_type": "code",
   "execution_count": 120,
   "metadata": {},
   "outputs": [],
   "source": [
    "# simulate outcomes under null, compare to observed outcome\n",
    "n_trials = 2000000\n",
    "\n",
    "ctrl_clicks = np.random.binomial(n_control, p_null,n_trials)\n",
    "exp_clicks = np.random.binomial(n_exper, p_null, n_trials)\n",
    "samples = exp_clicks/ n_exper - ctrl_clicks/ n_control\n",
    "# 模拟出的这个sample是按照control 和 experiment 为 491 和 508 次，p为populationp，\n",
    "# 抽2000000次 得到的\n"
   ]
  },
  {
   "cell_type": "code",
   "execution_count": 121,
   "metadata": {},
   "outputs": [
    {
     "name": "stdout",
     "output_type": "stream",
     "text": [
      "6.643099411454094e-06\n",
      "0.018660417638221852\n"
     ]
    }
   ],
   "source": [
    "print(samples.mean())\n",
    "print(samples.std())"
   ]
  },
  {
   "cell_type": "code",
   "execution_count": 122,
   "metadata": {},
   "outputs": [
    {
     "data": {
      "text/plain": [
       "0.039756"
      ]
     },
     "execution_count": 122,
     "metadata": {},
     "output_type": "execute_result"
    }
   ],
   "source": [
    "# get the null hypothesis's p-value\n",
    "P_null = (diff <= samples).mean()\n",
    "P_null"
   ]
  },
  {
   "cell_type": "markdown",
   "metadata": {},
   "source": [
    "So, reject the hypothesis"
   ]
  },
  {
   "cell_type": "markdown",
   "metadata": {},
   "source": [
    "### Analytic Approach\n",
    "\n",
    "actually, analytic approach is to get the simulation approach's mean and standard error directly.\n",
    "$$ z = \\frac{(\\hat{p_1}-\\hat{p_2})-(p_1-p_2)}{\\sqrt{\\hat{p}(1-\\hat{p})(1/n_1+1/n_2)}}$$\n",
    "$$\\hat{p} = \\frac{Y_1+Y_2}{n_1+n_2} = p\\_null$$\n",
    "\n",
    "we assume $p_1-p_2$ = 0"
   ]
  },
  {
   "cell_type": "code",
   "execution_count": 103,
   "metadata": {},
   "outputs": [],
   "source": [
    "# get number of trials and overall 'success' rate under null\n",
    "n_control = data.groupby('condition').size()[0]\n",
    "n_exper = data.groupby('condition').size()[1]\n",
    "p_null = data['click'].mean()"
   ]
  },
  {
   "cell_type": "code",
   "execution_count": 104,
   "metadata": {},
   "outputs": [],
   "source": [
    "# get the standard error (actually is samples' stdev)\n",
    "se_p = np.sqrt(p_null * (1-p_null) * (1/n_control + 1/n_exper))"
   ]
  },
  {
   "cell_type": "code",
   "execution_count": 105,
   "metadata": {},
   "outputs": [
    {
     "data": {
      "text/plain": [
       "0.018651945824742132"
      ]
     },
     "execution_count": 105,
     "metadata": {},
     "output_type": "execute_result"
    }
   ],
   "source": [
    "se_p"
   ]
  },
  {
   "cell_type": "code",
   "execution_count": 106,
   "metadata": {},
   "outputs": [
    {
     "data": {
      "text/plain": [
       "1.7571887396196666"
      ]
     },
     "execution_count": 106,
     "metadata": {},
     "output_type": "execute_result"
    }
   ],
   "source": [
    "z = diff/se_p\n",
    "z"
   ]
  },
  {
   "cell_type": "code",
   "execution_count": 107,
   "metadata": {},
   "outputs": [
    {
     "data": {
      "text/plain": [
       "0.039442821974613684"
      ]
     },
     "execution_count": 107,
     "metadata": {},
     "output_type": "execute_result"
    }
   ],
   "source": [
    "p_value = 1-stats.norm.cdf(z)\n",
    "p_value"
   ]
  },
  {
   "attachments": {
    "image.png": {
     "image/png": "[encoded data removed]"
    }
   },
   "cell_type": "markdown",
   "metadata": {},
   "source": [
    "## Practical Significance\n",
    "Even if an experiment result shows a statistically significant difference in an evaluation metric between control and experimental groups, that does not necessarily mean that the experiment was a success. If there are any costs associated with deploying a change, those costs might outweigh the benefits expected based on the experiment results. **Practical significance** refers to the level of effect that you need to observe in order for the experiment to be called a true success and implemented in truth. Not all experiments imply a practical significance boundary, but it's an important factor in the interpretation of outcomes where it is relevant.\n",
    "\n",
    "If you consider the confidence interval for an evaluation metric statistic against the null baseline and practical significance bound, there are a few cases that can come about.\n",
    "\n",
    "### Confidence interval is fully in practical significance region\n",
    "(Below, $m_0$ indicates the null statistic value, **$d_{min}$ the practical significance bound**, and the blue line the confidence interval for the observed statistic. We assume that we're looking for a positive change, ignoring the negative equivalent for $d_{min}$.)\n",
    "![image.png](attachment:image.png)\n",
    "If the confidence interval for the statistic does not include the null or the practical significance level, then the experimental manipulation can be concluded to have a statistically and practically significant effect. It is clearest in this case that the manipulation should be implemented as a success."
   ]
  },
  {
   "attachments": {
    "image.png": {
     "image/png": "[encoded data removed]"
    }
   },
   "cell_type": "markdown",
   "metadata": {},
   "source": [
    "### Confidence interval completely excludes any part of practical significance region\n",
    "![image.png](attachment:image.png)\n",
    "If the confidence interval does not include any values that would be considered practically significant, this is a clear case for us to not implement the experimental change. This includes the case where the metric is statistically significant, but whose interval does not extend past the practical significance bounds. With such a low chance of practical significance being achieved on the metric, we should be wary of implementing the change."
   ]
  },
  {
   "attachments": {
    "image.png": {
     "image/png": "[encoded data removed]"
    }
   },
   "cell_type": "markdown",
   "metadata": {},
   "source": [
    "### Confidence interval includes points both inside and outside practical significance bounds\n",
    "![image.png](attachment:image.png)\n",
    "This leaves the trickiest cases to consider, where the confidence interval straddles the practical significance bound. In each of these cases, there is an uncertain possibility of practical significance being achieved. In an ideal world, you would be able to collect more data to reduce our uncertainty, reducing the scenario to one of the previous cases. Outside of this, you'll need to consider the risks carefully in order to make a recommendation on whether or not to follow through with a tested change. Your analysis might also reveal subsets of the population or aspects of the manipulation that do work, in order to refine further studies or experiments."
   ]
  },
  {
   "cell_type": "markdown",
   "metadata": {},
   "source": [
    "## Experiment Size\n",
    "\n",
    "We can use the knowledge of our desired practical significance boundary to plan out our experiment. By knowing how many observations we need in order to detect our desired effect to our desired level of reliability, we can see how long we would need to run our experiment and whether or not it is feasible.\n",
    "\n",
    "Let's use the example from the video, where we have a baseline click-through rate of 10% and want to see a manipulation increase this baseline to 12%. How many observations would we need in each group in order to detect this change with power $1-\\beta = .80$ (i.e. detect the 2% absolute increase 80% of the time), at a Type I error rate of $\\alpha = .05$?"
   ]
  },
  {
   "cell_type": "code",
   "execution_count": 129,
   "metadata": {},
   "outputs": [],
   "source": [
    "# import packages\n",
    "import numpy as np\n",
    "import scipy.stats as stats\n",
    "\n",
    "import matplotlib.pyplot as plt\n",
    "%matplotlib inline"
   ]
  },
  {
   "cell_type": "markdown",
   "metadata": {},
   "source": [
    "### Method 1: Trial and Error\n",
    "\n",
    "One way we could solve this is through trial and error. Every sample size will have a level of power associated with it; testing multiple sample sizes will gradually allow us to narrow down the minimum sample size required to obtain our desired power level. This isn't a particularly efficient method, but it can provide an intuition for how experiment sizing works.\n",
    "\n",
    "Fill in the `power()` function below following these steps:\n",
    "\n",
    "1. Under the null hypothesis, we should have a critical value for which the Type I error rate is at our desired alpha level.\n",
    "  - `se_null`: Compute the standard error for the difference in proportions under the null hypothesis for our two groups. The base probability is given by `p_null`. Remember that **the variance of the difference distribution is the sum of the variances for the individual distributions**, and that _each_ group is assigned `n` observations.\n",
    "\n",
    "  standard_error = $\\sqrt{\\frac{p_1(1-p_1)}{n_1} + \\frac{p_2(1-p_2)}{n_2}}$\n",
    "  \n",
    "  - `null_dist`: To assist in re-use, this should be a [scipy norm object](https://docs.scipy.org/doc/scipy/reference/generated/scipy.stats.norm.html). Specify the center and standard deviation of the normal distribution using the \"loc\" and \"scale\" arguments, respectively.\n",
    "  - `p_crit`: Compute the critical value of the distribution that would cause us to reject the null hypothesis. One of the methods of the `null_dist` object will help you obtain this value (passing in some function of our desired error rate `alpha`).\n",
    "2. The power is the proportion of the distribution under the alternative hypothesis that is past that previously-obtained critical value.\n",
    "  - `se_alt`: Now it's time to make computations in the other direction. This will be standard deviation of differences under the desired detectable difference. Note that the individual distributions will have different variances now: one with `p_null` probability of success, and the other with `p_alt` probability of success.\n",
    "  - `alt_dist`: This will be a scipy norm object like above. Be careful of the \"loc\" argument in this one. The way the `power` function is set up, it expects `p_alt` to be greater than `p_null`, for a positive difference.\n",
    "  - `beta`: Beta is the probability of a Type-II error, or the probability of failing to reject the null for a particular non-null state. That means you should make use of `alt_dist` and `p_crit` here!\n",
    "\n",
    "The second half of the function has already been completed for you, which creates a visualization of the distribution of differences for the null case and for the desired detectable difference. Use the cells that follow to run the function and observe the visualizations, and to test your code against a few assertion statements. Check the following page if you need help coming up with the solution."
   ]
  },
  {
   "cell_type": "markdown",
   "metadata": {},
   "source": [
    "补充：\n",
    "\n",
    "AB test 的H1 和一般的假设检验不一样，不是拒绝H0就行， 而是需要H1统计上significant\n",
    "\n",
    "- alpha level:\n",
    "the probability of rejecting the null hypothesis assuming that the null hypothesis is true\n",
    "    \n",
    "- statistical power:\n",
    "the probability of rejectinig the null hypothesis assuming that the alternative hypothesis is true\n",
    "\n",
    "增加statistical power的方法有两个， 一个是扩大H0和H1之间的距离，另一个是增加样本数量。"
   ]
  },
  {
   "cell_type": "code",
   "execution_count": 136,
   "metadata": {},
   "outputs": [],
   "source": [
    "def power(p_null, p_alt, n, alpha = .05, plot = True):\n",
    "    \"\"\"\n",
    "    Compute the power of detecting the difference in two populations with \n",
    "    different proportion parameters, given a desired alpha rate.\n",
    "    \n",
    "    Input parameters:\n",
    "        p_null: base success rate under null hypothesis\n",
    "        p_alt : desired success rate to be detected, must be larger than\n",
    "                p_null\n",
    "        n     : number of observations made in each group\n",
    "        alpha : Type-I error rate\n",
    "        plot  : boolean for whether or not a plot of distributions will be\n",
    "                created\n",
    "    \n",
    "    Output value:\n",
    "        power : Power to detect the desired difference, under the null.\n",
    "    \"\"\"\n",
    "    \n",
    "    # H0 the mean \\mu equal to 0, p1 is equal to p2\n",
    "    se_null = np.sqrt(p_null*(1-p_null)/n + p_null*(1-p_null)/n)\n",
    "    null_dist = stats.norm(loc = 0 ,scale = se_null)\n",
    "    # get the critical value of one side test to reject H0\n",
    "    p_crit = null_dist.ppf(1- alpha)\n",
    "    \n",
    "    \n",
    "    \n",
    "    # H1 the mean \\mu equal to p_alt - p_null\n",
    "    se_alt = np.sqrt(p_null*(1-p_null)/n + p_alt*(1-p_alt)/n)\n",
    "    alt_dist = stats.norm(loc = p_alt - p_null ,scale = se_alt)\n",
    "    beta = alt_dist.cdf(p_crit)\n",
    "    \n",
    "    if plot:\n",
    "        # Compute distribution heights\n",
    "        low_bound = null_dist.ppf(.01)\n",
    "        high_bound = alt_dist.ppf(.99)\n",
    "        x = np.linspace(low_bound, high_bound, 201)\n",
    "        y_null = null_dist.pdf(x)\n",
    "        y_alt = alt_dist.pdf(x)\n",
    "\n",
    "        # Plot the distributions\n",
    "        plt.plot(x, y_null)\n",
    "        plt.plot(x, y_alt)\n",
    "        plt.vlines(p_crit, 0, np.amax([null_dist.pdf(p_crit), alt_dist.pdf(p_crit)]),\n",
    "                   linestyles = '--')\n",
    "        plt.fill_between(x, y_null, 0, where = (x >= p_crit), alpha = .5)\n",
    "        plt.fill_between(x, y_alt , 0, where = (x <= p_crit), alpha = .5)\n",
    "        \n",
    "        plt.legend(['null','alt'])\n",
    "        plt.xlabel('difference')\n",
    "        plt.ylabel('density')\n",
    "        plt.show()\n",
    "    \n",
    "    # return power\n",
    "    return (1 - beta)\n",
    "    "
   ]
  },
  {
   "cell_type": "code",
   "execution_count": 147,
   "metadata": {},
   "outputs": [
    {
     "data": {
      "image/png": "[encoded data removed]",
      "text/plain": [
       "<Figure size 432x288 with 1 Axes>"
      ]
     },
     "metadata": {
      "needs_background": "light"
     },
     "output_type": "display_data"
    },
    {
     "data": {
      "text/plain": [
       "0.04242367974632544"
      ]
     },
     "execution_count": 147,
     "metadata": {},
     "output_type": "execute_result"
    }
   ],
   "source": [
    "power(.1, .099, 1000)"
   ]
  },
  {
   "cell_type": "code",
   "execution_count": 138,
   "metadata": {},
   "outputs": [
    {
     "name": "stdout",
     "output_type": "stream",
     "text": [
      "You should see this message if all the assertions passed!\n"
     ]
    }
   ],
   "source": [
    "assert np.isclose(power(.1, .12, 1000, plot = False), 0.4412, atol = 1e-4)\n",
    "assert np.isclose(power(.1, .12, 3000, plot = False), 0.8157, atol = 1e-4)\n",
    "assert np.isclose(power(.1, .12, 5000, plot = False), 0.9474, atol = 1e-4)\n",
    "print('You should see this message if all the assertions passed!')"
   ]
  },
  {
   "cell_type": "code",
   "execution_count": 139,
   "metadata": {},
   "outputs": [
    {
     "data": {
      "image/png": "[encoded data removed]",
      "text/plain": [
       "<Figure size 432x288 with 1 Axes>"
      ]
     },
     "metadata": {
      "needs_background": "light"
     },
     "output_type": "display_data"
    },
    {
     "data": {
      "text/plain": [
       "0.9473568779464357"
      ]
     },
     "execution_count": 139,
     "metadata": {},
     "output_type": "execute_result"
    }
   ],
   "source": [
    "power(.1, .12, 5000)"
   ]
  },
  {
   "cell_type": "code",
   "execution_count": 144,
   "metadata": {},
   "outputs": [
    {
     "data": {
      "image/png": "[encoded data removed]",
      "text/plain": [
       "<Figure size 432x288 with 1 Axes>"
      ]
     },
     "metadata": {
      "needs_background": "light"
     },
     "output_type": "display_data"
    },
    {
     "data": {
      "text/plain": [
       "0.9992073184858453"
      ]
     },
     "execution_count": 144,
     "metadata": {},
     "output_type": "execute_result"
    }
   ],
   "source": [
    "power(.1, .13, 5000)"
   ]
  },
  {
   "cell_type": "markdown",
   "metadata": {},
   "source": [
    "## Method 2: Analytic Solution\n",
    "\n",
    "Now that we've got some intuition for power by using trial and error, we can now approach a closed-form solution for computing a minimum experiment size. The key point to notice is that, for an $\\alpha$ and $\\beta$ both < .5, the critical value for determining statistical significance will fall between our null click-through rate and our alternative, desired click-through rate. So, the difference between $p_0$ and $p_1$ can be subdivided into the distance from $p_0$ to the critical value $p^*$ and the distance from $p^*$ to $p_1$.\n",
    "\n",
    "<img src= 'ExpSize_Power.png'>\n",
    "\n",
    "Those subdivisions can be expressed in terms of the standard error and the z-scores:\n",
    "\n",
    "$p_0$ is the mean of $H_0$, so we have\n",
    "$$z_{1-\\alpha} = \\frac{p^* - p_0}{SE_{0}}$$\n",
    "we get:\n",
    "$$p^* - p_0 = z_{1-\\alpha} SE_{0},$$\n",
    "\n",
    "also:\n",
    "$$p_1 - p^* = -z_{\\beta} SE_{1};$$\n",
    "\n",
    "combine together:\n",
    "$$p_1 - p_0 = z_{1-\\alpha} SE_{0} - z_{\\beta} SE_{1}$$\n",
    "\n",
    "In turn, the standard errors can be expressed in terms of the standard deviations of the distributions, divided by the square root of the number of samples in each group:\n",
    "\n",
    "$$SE_{0} = \\frac{s_{0}}{\\sqrt{n}},$$\n",
    "$$SE_{1} = \\frac{s_{1}}{\\sqrt{n}}$$\n",
    "\n",
    "Substituting these values in and solving for $n$ will give us a formula for computing a minimum sample size to detect a specified difference, at the desired level of power:\n",
    "\n",
    "$$n = \\lceil \\big(\\frac{z_{\\alpha} s_{0} - z_{\\beta} s_{1}}{p_1 - p_0}\\big)^2 \\rceil$$\n",
    "\n",
    "where $\\lceil ... \\rceil$ represents the ceiling function, rounding up decimal values to the next-higher integer. Implement the necessary variables in the function below, and test them with the cells that follow.\n",
    "\n",
    "$\\beta = 1 - power$"
   ]
  },
  {
   "cell_type": "code",
   "execution_count": 255,
   "metadata": {},
   "outputs": [],
   "source": [
    "def experiment_size(p_null, p_alt, alpha = .05, beta = .20):\n",
    "    \"\"\"\n",
    "    Compute the minimum number of samples needed to achieve a desired power\n",
    "    level for a given effect size.\n",
    "    \n",
    "    Input parameters:\n",
    "        p_null: base success rate under null hypothesis\n",
    "        p_alt : desired success rate to be detected\n",
    "        alpha : Type-I error rate\n",
    "        beta  : Type-II error rate\n",
    "    \n",
    "    Output value:\n",
    "        n : Number of samples required for each group to obtain desired power\n",
    "    \"\"\"\n",
    "    \n",
    "    # Get necessary z-scores and standard deviations (@ 1 obs per group)\n",
    "    z_null = stats.norm.ppf(1-alpha)\n",
    "    z_alt  = stats.norm.ppf(beta)\n",
    "    sd_null = np.sqrt(p_null*(1-p_null) + p_null*(1-p_null))\n",
    "    sd_alt  = np.sqrt(p_null*(1-p_null) + p_alt*(1-p_alt))\n",
    "    \n",
    "    # Compute and return minimum sample size\n",
    "    n = ((z_null * sd_null - z_alt * sd_alt) / (p_alt - p_null)) ** 2\n",
    "    return np.ceil(n)"
   ]
  },
  {
   "cell_type": "code",
   "execution_count": 256,
   "metadata": {},
   "outputs": [
    {
     "data": {
      "text/plain": [
       "2863.0"
      ]
     },
     "execution_count": 256,
     "metadata": {},
     "output_type": "execute_result"
    }
   ],
   "source": [
    "experiment_size(.1, .12)"
   ]
  },
  {
   "cell_type": "code",
   "execution_count": 150,
   "metadata": {},
   "outputs": [
    {
     "name": "stdout",
     "output_type": "stream",
     "text": [
      "You should see this message if the assertion passed!\n"
     ]
    }
   ],
   "source": [
    "assert np.isclose(experiment_size(.1, .12), 2863)\n",
    "print('You should see this message if the assertion passed!')"
   ]
  },
  {
   "cell_type": "code",
   "execution_count": 265,
   "metadata": {
    "scrolled": true
   },
   "outputs": [
    {
     "data": {
      "text/plain": [
       "5.551384615384616"
      ]
     },
     "execution_count": 265,
     "metadata": {},
     "output_type": "execute_result"
    }
   ],
   "source": [
    "experiment_size(.16, 0.17538,0.025,0.2)/1625"
   ]
  },
  {
   "cell_type": "code",
   "execution_count": 261,
   "metadata": {},
   "outputs": [
    {
     "data": {
      "text/plain": [
       "20.144615384615385"
      ]
     },
     "execution_count": 261,
     "metadata": {},
     "output_type": "execute_result"
    }
   ],
   "source": [
    "experiment_size(.02, .0231,0.025,0.2)/1625"
   ]
  },
  {
   "cell_type": "code",
   "execution_count": 245,
   "metadata": {},
   "outputs": [
    {
     "data": {
      "text/plain": [
       "2.8852307692307693"
      ]
     },
     "execution_count": 245,
     "metadata": {},
     "output_type": "execute_result"
    }
   ],
   "source": [
    "9377/3250"
   ]
  },
  {
   "cell_type": "code",
   "execution_count": 263,
   "metadata": {},
   "outputs": [
    {
     "data": {
      "text/plain": [
       "0.1753846153846154"
      ]
     },
     "execution_count": 263,
     "metadata": {},
     "output_type": "execute_result"
    }
   ],
   "source": [
    "570/3250"
   ]
  },
  {
   "cell_type": "code",
   "execution_count": null,
   "metadata": {},
   "outputs": [],
   "source": []
  },
  {
   "cell_type": "markdown",
   "metadata": {},
   "source": [
    "## Notes on Interpretation\n",
    "\n",
    "The example explored above is a one-tailed test, with the alternative value greater than the null. The power computations performed in the first part will _not_ work if the alternative proportion is greater than the null, e.g. detecting a proportion parameter of 0.88 against a null of 0.9. You might want to try to rewrite the code to handle that case! The same issue should not show up for the second approach, where we directly compute the sample size.\n",
    "\n",
    "If you find that you need to do a two-tailed test, you should pay attention to two main things. First of all, the \"alpha\" parameter needs to account for the fact that the rejection region is divided into two areas. Secondly, you should perform the computation based on the worst-case scenario, the alternative case with the highest variability. Since, for the binomial, variance is highest when $p = .5$, decreasing as $p$ approaches 0 or 1, you should choose the alternative value that is closest to .5 as your reference when computing the necessary sample size.\n",
    "\n",
    "Note as well that the above methods only perform sizing for _statistical significance_, and do not take into account _practical significance_. One thing that should be realized is that if the true size of the experimental effect is the same as the desired practical significance level, then it's a coin flip whether the mean will be above or below the practical significance bound. This also doesn't even consider how a confidence interval might interact with that bound. In a way, experiment sizing is a way of checking about whether or not you'll be able to get what you _want_ from running an experiment, rather than checking if you'll get what you _need_."
   ]
  },
  {
   "cell_type": "markdown",
   "metadata": {},
   "source": [
    "## Alternative Approaches\n",
    "\n",
    "There are also tools and Python packages that can also help with sample sizing decisions, so you don't need to solve for every case on your own. The sample size calculator [here](http://www.evanmiller.org/ab-testing/sample-size.html) is applicable for proportions, and provides the same results as the methods explored above. (Note that the calculator assumes a two-tailed test, however.) Python package \"statsmodels\" has a number of functions in its [`power` module](https://www.statsmodels.org/stable/stats.html#power-and-sample-size-calculations) that perform power and sample size calculations. Unlike previously shown methods, differences between null and alternative are parameterized as an effect size (standardized difference between group means divided by the standard deviation). Thus, we can use these functions for more than just tests of proportions. If we want to do the same tests as before, the [`proportion_effectsize`](http://www.statsmodels.org/stable/generated/statsmodels.stats.proportion.proportion_effectsize.html) function computes [Cohen's h](https://en.wikipedia.org/wiki/Cohen%27s_h) as a measure of effect size. As a result, the output of the statsmodel functions will be different from the result expected above. This shouldn't be a major concern since in most cases, you're not going to be stopping based on an exact number of observations. You'll just use the value to make general design decisions."
   ]
  },
  {
   "cell_type": "code",
   "execution_count": 246,
   "metadata": {},
   "outputs": [
    {
     "data": {
      "text/plain": [
       "3020.515856462404"
      ]
     },
     "execution_count": 246,
     "metadata": {},
     "output_type": "execute_result"
    }
   ],
   "source": [
    "# example of using statsmodels for sample size calculation\n",
    "from statsmodels.stats.power import NormalIndPower\n",
    "from statsmodels.stats.proportion import proportion_effectsize\n",
    "\n",
    "# leave out the \"nobs\" parameter to solve for it\n",
    "NormalIndPower().solve_power(effect_size = proportion_effectsize(.12, .1), alpha = .05, power = 0.8,\n",
    "                             alternative = 'larger')"
   ]
  },
  {
   "cell_type": "code",
   "execution_count": 249,
   "metadata": {},
   "outputs": [
    {
     "data": {
      "text/plain": [
       "9724.264482393797"
      ]
     },
     "execution_count": 249,
     "metadata": {},
     "output_type": "execute_result"
    }
   ],
   "source": [
    "NormalIndPower().solve_power(effect_size = proportion_effectsize(.175, .16), alpha = .025, power = 0.8,\n",
    "                             alternative = 'larger')"
   ]
  },
  {
   "cell_type": "code",
   "execution_count": 250,
   "metadata": {},
   "outputs": [
    {
     "data": {
      "text/plain": [
       "1751.8918918918919"
      ]
     },
     "execution_count": 250,
     "metadata": {},
     "output_type": "execute_result"
    }
   ],
   "source": [
    "9723/5.55"
   ]
  },
  {
   "cell_type": "code",
   "execution_count": 252,
   "metadata": {},
   "outputs": [
    {
     "data": {
      "text/plain": [
       "6.712"
      ]
     },
     "execution_count": 252,
     "metadata": {},
     "output_type": "execute_result"
    }
   ],
   "source": [
    "10907/1625"
   ]
  },
  {
   "cell_type": "markdown",
   "metadata": {},
   "source": [
    "After computing the number of observations needed for an experiment to reliably detect a specified level of experimental effect (i.e. statistical power), we need to divide by the expected number of observations per day in order to get a minimum experiment length. We want to make sure that an experiment can be completed in a reasonable time frame so that if we do have a successful effect, it can be deployed as soon as possible and resources can be freed up to run new experiments. What a 'reasonable time frame' means will depend on how important a change will be, but if the length of time is beyond a month or two, that's probably a sign that it's too long.\n",
    "\n",
    "There are a few ways that an experiment's duration can be reduced. We could, of course, change our statistical parameters. Accepting higher Type I or Type II error rates will reduce the number of observations needed. So too will increasing the effect size: it's much easier to detect larger changes.\n",
    "\n",
    "Another option is to change the unit of diversion. A 'wider' unit of diversion will result in more observations being generated. For example, you could consider moving from a cookie-based diversion in a web-based experiment to an event-based diversion like pageviews. The tradeoff is that event-based diversion could create inconsistent website experiences for users who visit the site multiple times."
   ]
  },
  {
   "cell_type": "markdown",
   "metadata": {},
   "source": [
    "### Using Dummy Tests\n",
    "When it comes to designing an experiment, it might be useful to run a dummy test as a predecessor to or as part of that process. In a dummy test, you will implement the same steps that you would in an actual experiment to assign the experimental units into groups. However, the experimental manipulation won't actually be implemented, and the groups will be treated equivalently.\n",
    "\n",
    "There are multiple reasons to run a dummy test. First, a dummy test can expose if there are any errors in the randomization or assignment procedures. A short dummy test can be worth the investment if an invariant metric is found to have a statistically significant difference, or if some other systematic bias is identified, because it can help avoid larger problems down the line. A second reason to run a dummy test is to collect data on metrics' behaviors. If historic data is not enough to predict the outcome of recorded metrics or allow for experiment duration to be computed, then a dummy test can be useful for getting baselines.\n",
    "\n",
    "Of course, performing a dummy test requires an investment of resources, the most important of which is time. If time is of the essence, then you may need to just go ahead with the experiment, keeping an eye on invariant metrics for any trouble. An alternative approach is to perform a hybrid test. In the A/B testing paradigm, this can take the form of an A/A/B test. That is, we split the data into three groups: two control and one experimental. A comparison between control groups can be used to learn about null-environment properties before making inferences on the effect of the experimental manipulation."
   ]
  },
  {
   "cell_type": "markdown",
   "metadata": {},
   "source": [
    "## ELEMENTS:\n",
    "\n",
    "1. specify $H_0/H_A$\n",
    "2. choose test-stat(bos->exp)\n",
    "3. determin distribution of test-stat\n",
    "4. count test-stat's p-value"
   ]
  },
  {
   "cell_type": "markdown",
   "metadata": {},
   "source": [
    "## Non-Parametric Tests\n",
    "\n",
    "Up until now, you've been using standard hypothesis tests on means of normal distributions to design and analyze experiments. However, it's possible that you will encounter scenarios where you can't rely on only standard tests. This might be due to uncertainty about the true variability of a metric's distribution, a lack of data to assume normality, or wanting to do inference on a statistic that lacks a standard test. It's useful to know about some **non-parametric tests**, not just as a workaround for cases like this, but also as a second check on your experimental results.\n",
    "\n",
    "The main benefit of non-parametric tests is that they don't rely on many assumptions of the underlying population, and so can be used in a wider range of circumstances compared to standard tests. In this notebook, you'll cover two non-parametric approaches that use resampling of the data to make inferences about distributions and differences."
   ]
  },
  {
   "cell_type": "code",
   "execution_count": 152,
   "metadata": {},
   "outputs": [],
   "source": [
    "import numpy as np\n",
    "import pandas as pd\n",
    "\n",
    "import matplotlib.pyplot as plt\n",
    "%matplotlib inline"
   ]
  },
  {
   "cell_type": "markdown",
   "metadata": {},
   "source": [
    "## Bootstrapping\n",
    "\n",
    "Bootstrapping is used to estimate sampling distributions by using the actually collected data to generate new samples that could have been hypothetically collected. In a standard bootstrap, a bootstrapped sample means drawing points from the original data _with replacement_ until we get as many points as there were in the original data. Essentially, we're treating the original data as the population: without making assumptions about the original population distribution, using the original data as a model of the population is the best that we can do.\n",
    "\n",
    "Taking a lot of bootstrapped samples allows us to estimate the sampling distribution for various statistics on our original data. For example, let's say that we wanted to create a 95% confidence interval for the 90th percentile from a dataset of 5000 data points. (Perhaps we're looking at website load times and want to reduce the worst cases.) Bootstrapping makes this easy to estimate. First of all, we take a bootstrap sample (i.e., draw 5000 points with replacement from the original data), record the 90th percentile, and then repeat this a large number of times, let's say 100 000. From this bunch of bootstrapped 90th percentile estimates, we form our confidence interval by finding the values that capture the central 95% of the estimates (cutting off 2.5% on each tail). Implement this operation in the cells below, using the following steps:\n",
    "\n",
    "- Initialize some useful variables by storing the number of data points in `n_points` and setting up an empty list for the bootstrapped quantile values in `sample_qs`.\n",
    "- Create a loop for each trial:\n",
    "  - First generate a bootstrap sample by sampling from our data with replacement. ([`random.choice`](https://docs.scipy.org/doc/numpy/reference/generated/numpy.random.choice.html) will be useful here.)\n",
    "  - Then, compute the `q`th quantile of the sample and add it to the `sample_qs` list. If you're using NumPy v0.15 or later, you can use the [`quantile`](https://docs.scipy.org/doc/numpy/reference/generated/numpy.quantile.html) function to get the quantile directly with `q`; on v0.14 or earlier, you'll need to put `q` in terms of a percentile and use [`percentile`](https://docs.scipy.org/doc/numpy/reference/generated/numpy.percentile.html) instead.\n",
    "- After gathering the bootstrapped quantiles, find the limits that capture the central `c` proportion of quantiles to form the estimated confidence interval."
   ]
  },
  {
   "cell_type": "code",
   "execution_count": 162,
   "metadata": {},
   "outputs": [],
   "source": [
    "def quantile_ci(data, q, c = .95, n_trials = 1000):\n",
    "    \"\"\"\n",
    "    Compute a confidence interval for a quantile of a dataset using a bootstrap\n",
    "    method.\n",
    "    \n",
    "    Input parameters:\n",
    "        data: data in form of 1-D array-like (e.g. numpy array or Pandas series)\n",
    "        q: quantile to be estimated, must be between 0 and 1\n",
    "        c: confidence interval width\n",
    "        n_trials: number of bootstrap samples to perform\n",
    "    \n",
    "    Output value:\n",
    "        ci: Tuple indicating lower and upper bounds of bootstrapped\n",
    "            confidence interval\n",
    "    \"\"\"\n",
    "    \n",
    "    # initialize storage of bootstrapped sample quantiles\n",
    "    n_points = data.count()# number of data points\n",
    "    sample_qs = []# storage of sampled quantiles\n",
    "    \n",
    "    # For each trial...\n",
    "    for _ in range(n_trials):\n",
    "        # draw a random sample from the data with replacement...\n",
    "        sample = np.random.choice(data,n_points,replace = True)\n",
    "        \n",
    "        # compute the desired quantile...\n",
    "        sample_q = np.quantile(sample, q)\n",
    "        \n",
    "        # and add the value to the list of sampled quantiles\n",
    "        sample_qs.append(sample_q)\n",
    "        \n",
    "    # Compute the confidence interval bounds\n",
    "    lower_limit = np.quantile(sample_qs, (1-c)/2)\n",
    "    upper_limit = np.quantile(sample_qs, (1+c)/2)\n",
    "    \n",
    "    return (lower_limit, upper_limit)"
   ]
  },
  {
   "cell_type": "code",
   "execution_count": 163,
   "metadata": {
    "scrolled": true
   },
   "outputs": [
    {
     "data": {
      "text/html": [
       "<div>\n",
       "<style scoped>\n",
       "    .dataframe tbody tr th:only-of-type {\n",
       "        vertical-align: middle;\n",
       "    }\n",
       "\n",
       "    .dataframe tbody tr th {\n",
       "        vertical-align: top;\n",
       "    }\n",
       "\n",
       "    .dataframe thead th {\n",
       "        text-align: right;\n",
       "    }\n",
       "</style>\n",
       "<table border=\"1\" class=\"dataframe\">\n",
       "  <thead>\n",
       "    <tr style=\"text-align: right;\">\n",
       "      <th></th>\n",
       "      <th>time</th>\n",
       "    </tr>\n",
       "  </thead>\n",
       "  <tbody>\n",
       "    <tr>\n",
       "      <th>0</th>\n",
       "      <td>8152</td>\n",
       "    </tr>\n",
       "    <tr>\n",
       "      <th>1</th>\n",
       "      <td>2082</td>\n",
       "    </tr>\n",
       "    <tr>\n",
       "      <th>2</th>\n",
       "      <td>3049</td>\n",
       "    </tr>\n",
       "    <tr>\n",
       "      <th>3</th>\n",
       "      <td>3317</td>\n",
       "    </tr>\n",
       "    <tr>\n",
       "      <th>4</th>\n",
       "      <td>813</td>\n",
       "    </tr>\n",
       "    <tr>\n",
       "      <th>5</th>\n",
       "      <td>1442</td>\n",
       "    </tr>\n",
       "    <tr>\n",
       "      <th>6</th>\n",
       "      <td>3815</td>\n",
       "    </tr>\n",
       "    <tr>\n",
       "      <th>7</th>\n",
       "      <td>2113</td>\n",
       "    </tr>\n",
       "    <tr>\n",
       "      <th>8</th>\n",
       "      <td>738</td>\n",
       "    </tr>\n",
       "    <tr>\n",
       "      <th>9</th>\n",
       "      <td>2499</td>\n",
       "    </tr>\n",
       "  </tbody>\n",
       "</table>\n",
       "</div>"
      ],
      "text/plain": [
       "   time\n",
       "0  8152\n",
       "1  2082\n",
       "2  3049\n",
       "3  3317\n",
       "4   813\n",
       "5  1442\n",
       "6  3815\n",
       "7  2113\n",
       "8   738\n",
       "9  2499"
      ]
     },
     "execution_count": 163,
     "metadata": {},
     "output_type": "execute_result"
    }
   ],
   "source": [
    "data = pd.read_csv('bootstrapping_data.csv')\n",
    "data.head(10)"
   ]
  },
  {
   "cell_type": "code",
   "execution_count": 164,
   "metadata": {},
   "outputs": [
    {
     "data": {
      "image/png": "[encoded data removed]",
      "text/plain": [
       "<Figure size 432x288 with 1 Axes>"
      ]
     },
     "metadata": {
      "needs_background": "light"
     },
     "output_type": "display_data"
    }
   ],
   "source": [
    "# data visualization\n",
    "plt.hist(data['time'], bins = np.arange(0, data['time'].max()+400, 400));"
   ]
  },
  {
   "cell_type": "code",
   "execution_count": 165,
   "metadata": {},
   "outputs": [
    {
     "name": "stdout",
     "output_type": "stream",
     "text": [
      "(5489.585000000002, 5833.1)\n"
     ]
    }
   ],
   "source": [
    "lims = quantile_ci(data['time'], 0.9)\n",
    "print(lims)"
   ]
  },
  {
   "cell_type": "markdown",
   "metadata": {},
   "source": [
    "### Bootstrapping Notes\n",
    "\n",
    "Confidence intervals coming from the bootstrap procedure will be optimistic compared to the true state of the world. This is because there will be things that we don't know about the real world that we can't account for, due to not having a parametric model of the world's state. Consider the extreme case of trying to understand the distribution of the maximum value: our confidence interval would never be able to include any value greater than the largest observed value and it makes no sense to have any lower bound below the maximum observation. Intuitively, however, there's a pretty clear possibility for there to be unobserved values that are larger than the one we've observed, especially for skewed data like shown in the example.\n",
    "\n",
    "This doesn't override the bootstrap method's advantages, however. The bootstrap procedure is fairly simple and straightforward. Since you don't make assumptions about the distribution of data, it can be applicable for any case you encounter. The results should also be fairly comparable to standard tests. But it does take computational effort, and its output does depend on the data put in. For reference, for the 95% CI on the 90th percentile example explored above, the inferred interval would only capture about 83% of 90th percentiles from the original generating distribution. But a more intricate procedure using a binomial assumption to index on the observed data only does about one percentage point better (84%). And both of these depend on the specific data generated: a different set of 5000 points will produce different intervals, with different accuracies.\n",
    "\n",
    "Binomial solution for percentile CIs reference: [1](https://www-users.york.ac.uk/~mb55/intro/cicent.htm), [2](https://stats.stackexchange.com/questions/99829/how-to-obtain-a-confidence-interval-for-a-percentile)"
   ]
  },
  {
   "cell_type": "markdown",
   "metadata": {},
   "source": [
    "## Permutation Tests\n",
    "\n",
    "### Why use permutation tests?\n",
    "- small sample size\n",
    "- assumptions not met (for parametric approach)\n",
    "- test something other than calssic apporaches comparing means and medians(such as 10 pencent quantile)\n",
    "- difficult fo estimate the SE(standard error) for test-statisic\n",
    "\n",
    "\n",
    "The permutation test is a resampling-type test used to compare the values on an outcome variable between two or more groups. In the case of the permutation test, resampling is done on the group labels. The idea here is that, under the null hypothesis, the outcome distribution should be the same for all groups, whether control or experimental. Thus, we can emulate the null by taking all of the data values as a single large group. Applying labels randomly to the data points (while maintaining the original group membership ratios) gives us one simulated outcome from the null.\n",
    "\n",
    "The rest is similar to the sampling approach used in a standard hypothesis test, except that we haven't specified a reference distribution to sample from – we're sampling directly from the data we've collected. After applying the labels randomly to all the data and recording the outcome statistic many times, we compare our actual, observed statistic against the simulated statistics. A p-value is obtained by seeing how many simulated statistic values are as or more extreme than the one actually observed, and a conclusion is then drawn.\n",
    "\n",
    "Try implementing a permutation test in the cells below to test if the 90th percentile of times is statistically significantly smaller for the experimental group, as compared to the control group:\n",
    "\n",
    "- Initialize an empty list to store the difference in sample quantiles as `sample_diffs`.\n",
    "- Create a loop for each trial:\n",
    "  - First generate a permutation sample by randomly shuffling the data point labels. ([`random.permutation`](https://docs.scipy.org/doc/numpy-1.14.0/reference/generated/numpy.random.permutation.html) will be useful here.)\n",
    "  - Then, compute the `q`th quantile of the data points that have been assigned to each group based on the permuted labels. Append the difference in quantiles to the `sample_diffs` list.\n",
    "- After gathering the quantile differences for permuted samples, compute the observed difference for the actual data. Then, compute a p-value from the number of permuted sample differences that are less than or greater than the observed difference, depending on the desired alternative hypothesis."
   ]
  },
  {
   "cell_type": "code",
   "execution_count": 169,
   "metadata": {},
   "outputs": [],
   "source": [
    "def quantile_permtest(x, y, q, alternative = 'less', n_trials = 10_000):\n",
    "    \"\"\"\n",
    "    Compute a confidence interval for a quantile of a dataset using a bootstrap\n",
    "    method.\n",
    "    \n",
    "    Input parameters:\n",
    "        x: 1-D array-like of data for independent / grouping feature as 0s and 1s\n",
    "        y: 1-D array-like of data for dependent / output feature\n",
    "        q: quantile to be estimated, must be between 0 and 1\n",
    "        alternative: type of test to perform, {'less', 'greater'}\n",
    "        n_trials: number of permutation trials to perform\n",
    "    \n",
    "    Output value:\n",
    "        p: estimated p-value of test\n",
    "    \"\"\"\n",
    "    \n",
    "    \n",
    "    # initialize storage of bootstrapped sample quantiles\n",
    "    sample_diffs = []\n",
    "    \n",
    "    # For each trial...\n",
    "    for _ in range(n_trials):\n",
    "        # randomly permute the grouping labels\n",
    "        permutation = np.random.permutation(y)\n",
    "        \n",
    "        # compute the difference in quantiles\n",
    "        ctr_q = np.quantile(x[permutation==0], q)\n",
    "        exp_q = np.quantile(x[permutation==1], q)\n",
    "        \n",
    "        # and add the value to the list of sampled differences\n",
    "        sample_diffs.append(exp_q-ctr_q)\n",
    "    \n",
    "    # compute observed statistic\n",
    "    ctr_q_ob = np.quantile(x[y==0], q)\n",
    "    exp_q_ob = np.quantile(x[y==1], q)\n",
    "    obs_diff = exp_q_ob - ctr_q_ob\n",
    "    \n",
    "    # compute a p-value\n",
    "    if alternative == 'less':\n",
    "        hits = (sample_diffs <= obs_diff).sum()\n",
    "    elif alternative == 'greater':\n",
    "        hits = (sample_diffs >= obs_diff).sum()\n",
    "    \n",
    "    return (hits / n_trials)"
   ]
  },
  {
   "cell_type": "code",
   "execution_count": 170,
   "metadata": {},
   "outputs": [
    {
     "data": {
      "text/html": [
       "<div>\n",
       "<style scoped>\n",
       "    .dataframe tbody tr th:only-of-type {\n",
       "        vertical-align: middle;\n",
       "    }\n",
       "\n",
       "    .dataframe tbody tr th {\n",
       "        vertical-align: top;\n",
       "    }\n",
       "\n",
       "    .dataframe thead th {\n",
       "        text-align: right;\n",
       "    }\n",
       "</style>\n",
       "<table border=\"1\" class=\"dataframe\">\n",
       "  <thead>\n",
       "    <tr style=\"text-align: right;\">\n",
       "      <th></th>\n",
       "      <th>condition</th>\n",
       "      <th>time</th>\n",
       "    </tr>\n",
       "  </thead>\n",
       "  <tbody>\n",
       "    <tr>\n",
       "      <th>0</th>\n",
       "      <td>0</td>\n",
       "      <td>5940</td>\n",
       "    </tr>\n",
       "    <tr>\n",
       "      <th>1</th>\n",
       "      <td>0</td>\n",
       "      <td>666</td>\n",
       "    </tr>\n",
       "    <tr>\n",
       "      <th>2</th>\n",
       "      <td>1</td>\n",
       "      <td>571</td>\n",
       "    </tr>\n",
       "    <tr>\n",
       "      <th>3</th>\n",
       "      <td>1</td>\n",
       "      <td>779</td>\n",
       "    </tr>\n",
       "    <tr>\n",
       "      <th>4</th>\n",
       "      <td>0</td>\n",
       "      <td>1928</td>\n",
       "    </tr>\n",
       "    <tr>\n",
       "      <th>5</th>\n",
       "      <td>0</td>\n",
       "      <td>3791</td>\n",
       "    </tr>\n",
       "    <tr>\n",
       "      <th>6</th>\n",
       "      <td>0</td>\n",
       "      <td>736</td>\n",
       "    </tr>\n",
       "    <tr>\n",
       "      <th>7</th>\n",
       "      <td>1</td>\n",
       "      <td>8482</td>\n",
       "    </tr>\n",
       "    <tr>\n",
       "      <th>8</th>\n",
       "      <td>0</td>\n",
       "      <td>4594</td>\n",
       "    </tr>\n",
       "    <tr>\n",
       "      <th>9</th>\n",
       "      <td>0</td>\n",
       "      <td>1171</td>\n",
       "    </tr>\n",
       "  </tbody>\n",
       "</table>\n",
       "</div>"
      ],
      "text/plain": [
       "   condition  time\n",
       "0          0  5940\n",
       "1          0   666\n",
       "2          1   571\n",
       "3          1   779\n",
       "4          0  1928\n",
       "5          0  3791\n",
       "6          0   736\n",
       "7          1  8482\n",
       "8          0  4594\n",
       "9          0  1171"
      ]
     },
     "execution_count": 170,
     "metadata": {},
     "output_type": "execute_result"
    }
   ],
   "source": [
    "data = pd.read_csv('permutation_data.csv')\n",
    "data.head(10)"
   ]
  },
  {
   "cell_type": "code",
   "execution_count": 171,
   "metadata": {},
   "outputs": [
    {
     "data": {
      "image/png": "[encoded data removed]",
      "text/plain": [
       "<Figure size 432x288 with 1 Axes>"
      ]
     },
     "metadata": {
      "needs_background": "light"
     },
     "output_type": "display_data"
    }
   ],
   "source": [
    "# data visualization\n",
    "bin_borders = np.arange(0, data['time'].max()+400, 400)\n",
    "plt.hist(data[data['condition'] == 0]['time'], alpha = 0.5, bins = bin_borders)\n",
    "plt.hist(data[data['condition'] == 1]['time'], alpha = 0.5, bins = bin_borders)\n",
    "plt.legend(labels = ['control', 'experiment']);"
   ]
  },
  {
   "cell_type": "code",
   "execution_count": 172,
   "metadata": {},
   "outputs": [
    {
     "name": "stdout",
     "output_type": "stream",
     "text": [
      "5809.199999999999 5492.2\n"
     ]
    }
   ],
   "source": [
    "# Just how different are the two distributions' 90th percentiles?\n",
    "print(np.percentile(data[data['condition'] == 0]['time'], 90),\n",
    "      np.percentile(data[data['condition'] == 1]['time'], 90))"
   ]
  },
  {
   "cell_type": "code",
   "execution_count": 173,
   "metadata": {},
   "outputs": [
    {
     "data": {
      "text/plain": [
       "0.0334"
      ]
     },
     "execution_count": 173,
     "metadata": {},
     "output_type": "execute_result"
    }
   ],
   "source": [
    "quantile_permtest(data['time'], data['condition'], 0.9,\n",
    "                  alternative = 'less')"
   ]
  },
  {
   "cell_type": "code",
   "execution_count": 174,
   "metadata": {},
   "outputs": [
    {
     "data": {
      "text/plain": [
       "0.9655"
      ]
     },
     "execution_count": 174,
     "metadata": {},
     "output_type": "execute_result"
    }
   ],
   "source": [
    "quantile_permtest(data['time'], data['condition'], 0.9,\n",
    "                  alternative = 'greater')"
   ]
  },
  {
   "cell_type": "markdown",
   "metadata": {},
   "source": [
    "## Rank-Sum Test (Mann-Whitney)\n",
    "\n",
    "曼-惠特尼U检验又称“曼-惠特尼秩和检验”，是由H.B.Mann和D.R.Whitney于1947年提出的。它假设两个样本分别来自除了总体均值以外完全相同的两个总体，目的是检验这两个总体的均值是否有显著的差别。\n",
    "\n",
    "曼-惠特尼秩和检验可以看作是对两均值之差的参数检验方式的T检验或相应的大样本正态检验的代用品。由于曼-惠特尼秩和检验明确地考虑了每一个样本中各测定值所排的秩，它比符号检验法使用了更多的信息。\n",
    "\n",
    "The rank-sum test is fairly different from the two previous approaches. There's no resamplng involved; the test is performed only on the data present. The rank-sum test, also known as the Mann-Whitney U test, is not a test of any particular statistic, like the mean or median. Instead, it's a test of distributions: let's say we draw one value at random from the populations behind each group. The null hypothesis says that there's an equal chance that the larger value is from the first group as the second group; the alternative hypothesis says that there's an unequal chance, which can be specified as one- or two-tailed.\n",
    "\n",
    "In order to test this hypothesis, we should look at the data we've collected and see in how many cases values from one group win compared to values in the second. That is, for each data point in the first group, we count how many values in the second group that are smaller than it. (If both values are equal, we count that as a tie, worth +0.5 to the tally.) This number of wins for the first group gives us a value $U$.\n",
    "\n",
    "It turns out that $U$ is approximately normally-distributed, given a large enough sample size. If we have $n_1$ data points in the first group and $n_2$ points in the second, then we have a total of $n_1 n_2$ matchups and an equivalent number of victory points to hand out. Under the null hypothesis, we should expect the number of wins to be evenly distributed between groups, and so the expected wins are $\\mu_U = \\frac{n_1 n_2}{2}$. The variability in the number of wins can be found to be the following equation (assuming no or few ties):\n",
    "\n",
    "$$ \n",
    "\\sigma_U = \\sqrt{\\frac{n_1n_2(n_1+n_2+1)}{12}}\n",
    "$$\n",
    "\n",
    "These $\\mu_U$ and $\\sigma_U$ values can then be used to compute a standard normal z-score, which generates a p-value. Implement this method of performing the rank-sum test in the cells below!\n",
    "\n",
    "- HINT: scipy stats' [`norm`](https://docs.scipy.org/doc/scipy/reference/generated/scipy.stats.norm.html) class can be used to obtain p-values after computing a z-score.\n"
   ]
  },
  {
   "cell_type": "code",
   "execution_count": null,
   "metadata": {},
   "outputs": [],
   "source": []
  },
  {
   "cell_type": "code",
   "execution_count": 181,
   "metadata": {},
   "outputs": [],
   "source": [
    "def ranked_sum(x, y, alternative = 'two-sided'):\n",
    "    \"\"\"\n",
    "    Return a p-value for a ranked-sum test, assuming no ties.\n",
    "    \n",
    "    Input parameters:\n",
    "        x: 1-D array-like of data for first group\n",
    "        y: 1-D array-like of data for second group\n",
    "        alternative: type of test to perform, {'two-sided', less', 'greater'}\n",
    "    \n",
    "    Output value:\n",
    "        p: estimated p-value of test\n",
    "    \"\"\"\n",
    "    \n",
    "    # compute U\n",
    "    u = 0\n",
    "    for i in x:\n",
    "        wins = (i > y).sum()\n",
    "        ties = (i == y).sum()\n",
    "        u += wins + 0.5 * ties\n",
    "    \n",
    "    # compute a z-score\n",
    "    n_1 = x.shape[0]\n",
    "    n_2 = y.shape[0]\n",
    "    mean_u = n_1 * n_2 / 2 # expected value for U statistic\n",
    "    sd_u = np.sqrt(n_1 * n_2 * (n_1 + n_2 + 1) / 12)  # expected standard deviation for U statistic\n",
    "    z = (u - mean_u) / sd_u # U value z-score\n",
    "    \n",
    "    # compute a p-value\n",
    "    if alternative == 'two-sided':\n",
    "        p = (1 - stats.norm.cdf(z)) * 2\n",
    "    if alternative == 'less':\n",
    "        p = stats.norm.cdf(z)\n",
    "    elif alternative == 'greater':\n",
    "        p = 1 - stats.norm.cdf(z)\n",
    "    \n",
    "    return p"
   ]
  },
  {
   "cell_type": "code",
   "execution_count": 175,
   "metadata": {},
   "outputs": [
    {
     "data": {
      "text/html": [
       "<div>\n",
       "<style scoped>\n",
       "    .dataframe tbody tr th:only-of-type {\n",
       "        vertical-align: middle;\n",
       "    }\n",
       "\n",
       "    .dataframe tbody tr th {\n",
       "        vertical-align: top;\n",
       "    }\n",
       "\n",
       "    .dataframe thead th {\n",
       "        text-align: right;\n",
       "    }\n",
       "</style>\n",
       "<table border=\"1\" class=\"dataframe\">\n",
       "  <thead>\n",
       "    <tr style=\"text-align: right;\">\n",
       "      <th></th>\n",
       "      <th>condition</th>\n",
       "      <th>time</th>\n",
       "    </tr>\n",
       "  </thead>\n",
       "  <tbody>\n",
       "    <tr>\n",
       "      <th>0</th>\n",
       "      <td>0</td>\n",
       "      <td>5940</td>\n",
       "    </tr>\n",
       "    <tr>\n",
       "      <th>1</th>\n",
       "      <td>0</td>\n",
       "      <td>666</td>\n",
       "    </tr>\n",
       "    <tr>\n",
       "      <th>2</th>\n",
       "      <td>1</td>\n",
       "      <td>571</td>\n",
       "    </tr>\n",
       "    <tr>\n",
       "      <th>3</th>\n",
       "      <td>1</td>\n",
       "      <td>779</td>\n",
       "    </tr>\n",
       "    <tr>\n",
       "      <th>4</th>\n",
       "      <td>0</td>\n",
       "      <td>1928</td>\n",
       "    </tr>\n",
       "    <tr>\n",
       "      <th>5</th>\n",
       "      <td>0</td>\n",
       "      <td>3791</td>\n",
       "    </tr>\n",
       "    <tr>\n",
       "      <th>6</th>\n",
       "      <td>0</td>\n",
       "      <td>736</td>\n",
       "    </tr>\n",
       "    <tr>\n",
       "      <th>7</th>\n",
       "      <td>1</td>\n",
       "      <td>8482</td>\n",
       "    </tr>\n",
       "    <tr>\n",
       "      <th>8</th>\n",
       "      <td>0</td>\n",
       "      <td>4594</td>\n",
       "    </tr>\n",
       "    <tr>\n",
       "      <th>9</th>\n",
       "      <td>0</td>\n",
       "      <td>1171</td>\n",
       "    </tr>\n",
       "  </tbody>\n",
       "</table>\n",
       "</div>"
      ],
      "text/plain": [
       "   condition  time\n",
       "0          0  5940\n",
       "1          0   666\n",
       "2          1   571\n",
       "3          1   779\n",
       "4          0  1928\n",
       "5          0  3791\n",
       "6          0   736\n",
       "7          1  8482\n",
       "8          0  4594\n",
       "9          0  1171"
      ]
     },
     "execution_count": 175,
     "metadata": {},
     "output_type": "execute_result"
    }
   ],
   "source": [
    "data = pd.read_csv('permutation_data.csv')\n",
    "data.head(10)"
   ]
  },
  {
   "cell_type": "code",
   "execution_count": 176,
   "metadata": {},
   "outputs": [
    {
     "data": {
      "image/png": "[encoded data removed]",
      "text/plain": [
       "<Figure size 432x288 with 1 Axes>"
      ]
     },
     "metadata": {
      "needs_background": "light"
     },
     "output_type": "display_data"
    }
   ],
   "source": [
    "# data visualization\n",
    "bin_borders = np.arange(0, data['time'].max()+400, 400)\n",
    "plt.hist(data[data['condition'] == 0]['time'], alpha = 0.5, bins = bin_borders)\n",
    "plt.hist(data[data['condition'] == 1]['time'], alpha = 0.5, bins = bin_borders)\n",
    "plt.legend(labels = ['control', 'experiment']);"
   ]
  },
  {
   "cell_type": "code",
   "execution_count": 182,
   "metadata": {},
   "outputs": [
    {
     "data": {
      "text/plain": [
       "0.001752226502296117"
      ]
     },
     "execution_count": 182,
     "metadata": {},
     "output_type": "execute_result"
    }
   ],
   "source": [
    "ranked_sum(data[data['condition'] == 0]['time'],\n",
    "           data[data['condition'] == 1]['time'],\n",
    "           alternative = 'greater')\n",
    "# at a alpha = 0.05, we can reject H0"
   ]
  },
  {
   "cell_type": "markdown",
   "metadata": {},
   "source": [
    "### Rank-Sum Test Notes\n",
    "\n",
    "For smaller sample sizes, something like the permutation test can be performed. After exhaustively checking the distribution of victories for every possible assignment of group labels to value, a p-value can be computed for how unusual the actually-observed $U$ was.\n",
    "\n",
    "Also, there already exists a function in the scipy stats package [`mannwhitneyu`](https://docs.scipy.org/doc/scipy/reference/generated/scipy.stats.mannwhitneyu.html) that performs the Mann Whitney U test. This function considers more factors than the implementation above, including a correction on the standard deviation for ties and a continuity correction (since we're approximating a discretely-valued distribution with a continuous one). In addition, the approach they take is computationally more efficient, based on the sum of value ranks (hence the rank-sum test name) rather than the matchups explanation provided above.\n",
    "\n",
    "Reference: [Wikipedia](https://en.wikipedia.org/wiki/Mann%E2%80%93Whitney_U_test)\n"
   ]
  },
  {
   "cell_type": "code",
   "execution_count": 183,
   "metadata": {},
   "outputs": [
    {
     "data": {
      "text/plain": [
       "MannwhitneyuResult(statistic=3273546.0, pvalue=0.001752280226004597)"
      ]
     },
     "execution_count": 183,
     "metadata": {},
     "output_type": "execute_result"
    }
   ],
   "source": [
    "stats.mannwhitneyu(data[data['condition'] == 0]['time'],\n",
    "                   data[data['condition'] == 1]['time'],\n",
    "                   alternative = 'greater')"
   ]
  },
  {
   "cell_type": "markdown",
   "metadata": {},
   "source": [
    "## Sign Test\n",
    "\n",
    "The sign test also only uses the collected data to compute a test result. It only requires that there be paired values(**not randomly draw, just use two features in every row** ) between two groups to compare, and tests whether one group's values tend to be higher than the other's.\n",
    "\n",
    "In the sign test, we don't care how large differences are between groups, only which group takes a larger value. So comparisons of 0.21 vs. 0.22 and 0.21 vs. 0.31 are both counted equally as a point in favor of the second group. This makes the sign test a fairly weak test, though also a test that can be applied fairly broadly. It's most useful when we have very few observations to draw from and can't make a good assumption of underlying distribution characteristics. For example, you might use a sign test as an additional check on click rates that have been aggregated on a daily basis.\n",
    "\n",
    "The count of victories for a particular group can be modeled with the binomial distribution. Under the null hypothesis, it is equally likely that either group has a larger value (in the case of a tie, we ignore the comparison): the binomial distribution's success parameter is $p = 0.5$. Implement the sign test in the function below!\n",
    "\n",
    "- HINT: scipy stats' [`binom`](https://docs.scipy.org/doc/scipy/reference/generated/scipy.stats.binom.html) class can be used to obtain p-values after computing the number of matchups and victories."
   ]
  },
  {
   "cell_type": "code",
   "execution_count": 191,
   "metadata": {},
   "outputs": [],
   "source": [
    "def sign_test(x, y, alternative = 'two-sided'):\n",
    "    \"\"\"\n",
    "    Return a p-value for a ranked-sum test, assuming no ties.\n",
    "    \n",
    "    Input parameters:\n",
    "        x: 1-D array-like of data for first group\n",
    "        y: 1-D array-like of data for second group\n",
    "        alternative: type of test to perform, {'two-sided', less', 'greater'}\n",
    "    \n",
    "    Output value:\n",
    "        p: estimated p-value of test\n",
    "    \"\"\"\n",
    "    \n",
    "    # compute parameters\n",
    "    n = x.shape[0] - (x == y).sum() # number of matchups\n",
    "    k = (x > y).sum() # number of victories for first group\n",
    "     \n",
    "\n",
    "    # compute a p-value\n",
    "    if alternative == 'two-sided':\n",
    "        p = 2 - 2 * stats.binom(n ,0.5).cdf(k)\n",
    "    if alternative == 'less':\n",
    "        p = stats.binom(n ,0.5).cdf(k)\n",
    "    elif alternative == 'greater':\n",
    "        p = 1 - stats.binom(n ,0.5).cdf(k)\n",
    "        # or p = stats.binom(n, 0.5).cdf(n-k)\n",
    "    \n",
    "    return p"
   ]
  },
  {
   "cell_type": "code",
   "execution_count": 188,
   "metadata": {},
   "outputs": [
    {
     "data": {
      "text/html": [
       "<div>\n",
       "<style scoped>\n",
       "    .dataframe tbody tr th:only-of-type {\n",
       "        vertical-align: middle;\n",
       "    }\n",
       "\n",
       "    .dataframe tbody tr th {\n",
       "        vertical-align: top;\n",
       "    }\n",
       "\n",
       "    .dataframe thead th {\n",
       "        text-align: right;\n",
       "    }\n",
       "</style>\n",
       "<table border=\"1\" class=\"dataframe\">\n",
       "  <thead>\n",
       "    <tr style=\"text-align: right;\">\n",
       "      <th></th>\n",
       "      <th>day</th>\n",
       "      <th>control</th>\n",
       "      <th>exp</th>\n",
       "    </tr>\n",
       "  </thead>\n",
       "  <tbody>\n",
       "    <tr>\n",
       "      <th>0</th>\n",
       "      <td>1</td>\n",
       "      <td>0.096100</td>\n",
       "      <td>0.09715</td>\n",
       "    </tr>\n",
       "    <tr>\n",
       "      <th>1</th>\n",
       "      <td>2</td>\n",
       "      <td>0.073570</td>\n",
       "      <td>0.06954</td>\n",
       "    </tr>\n",
       "    <tr>\n",
       "      <th>2</th>\n",
       "      <td>3</td>\n",
       "      <td>0.100300</td>\n",
       "      <td>0.08782</td>\n",
       "    </tr>\n",
       "    <tr>\n",
       "      <th>3</th>\n",
       "      <td>4</td>\n",
       "      <td>0.072250</td>\n",
       "      <td>0.06936</td>\n",
       "    </tr>\n",
       "    <tr>\n",
       "      <th>4</th>\n",
       "      <td>5</td>\n",
       "      <td>0.061730</td>\n",
       "      <td>0.09893</td>\n",
       "    </tr>\n",
       "    <tr>\n",
       "      <th>5</th>\n",
       "      <td>6</td>\n",
       "      <td>0.077360</td>\n",
       "      <td>0.08050</td>\n",
       "    </tr>\n",
       "    <tr>\n",
       "      <th>6</th>\n",
       "      <td>7</td>\n",
       "      <td>0.071210</td>\n",
       "      <td>0.11161</td>\n",
       "    </tr>\n",
       "    <tr>\n",
       "      <th>7</th>\n",
       "      <td>8</td>\n",
       "      <td>0.082070</td>\n",
       "      <td>0.10802</td>\n",
       "    </tr>\n",
       "    <tr>\n",
       "      <th>8</th>\n",
       "      <td>9</td>\n",
       "      <td>0.106020</td>\n",
       "      <td>0.08793</td>\n",
       "    </tr>\n",
       "    <tr>\n",
       "      <th>9</th>\n",
       "      <td>10</td>\n",
       "      <td>0.100000</td>\n",
       "      <td>0.12043</td>\n",
       "    </tr>\n",
       "    <tr>\n",
       "      <th>10</th>\n",
       "      <td>11</td>\n",
       "      <td>0.081000</td>\n",
       "      <td>0.09236</td>\n",
       "    </tr>\n",
       "    <tr>\n",
       "      <th>11</th>\n",
       "      <td>12</td>\n",
       "      <td>0.080357</td>\n",
       "      <td>0.10494</td>\n",
       "    </tr>\n",
       "    <tr>\n",
       "      <th>12</th>\n",
       "      <td>13</td>\n",
       "      <td>0.081081</td>\n",
       "      <td>0.09392</td>\n",
       "    </tr>\n",
       "    <tr>\n",
       "      <th>13</th>\n",
       "      <td>14</td>\n",
       "      <td>0.068323</td>\n",
       "      <td>0.11607</td>\n",
       "    </tr>\n",
       "  </tbody>\n",
       "</table>\n",
       "</div>"
      ],
      "text/plain": [
       "    day   control      exp\n",
       "0     1  0.096100  0.09715\n",
       "1     2  0.073570  0.06954\n",
       "2     3  0.100300  0.08782\n",
       "3     4  0.072250  0.06936\n",
       "4     5  0.061730  0.09893\n",
       "5     6  0.077360  0.08050\n",
       "6     7  0.071210  0.11161\n",
       "7     8  0.082070  0.10802\n",
       "8     9  0.106020  0.08793\n",
       "9    10  0.100000  0.12043\n",
       "10   11  0.081000  0.09236\n",
       "11   12  0.080357  0.10494\n",
       "12   13  0.081081  0.09392\n",
       "13   14  0.068323  0.11607"
      ]
     },
     "execution_count": 188,
     "metadata": {},
     "output_type": "execute_result"
    }
   ],
   "source": [
    "data = pd.read_csv('signtest_data.csv')\n",
    "data"
   ]
  },
  {
   "cell_type": "code",
   "execution_count": 185,
   "metadata": {},
   "outputs": [
    {
     "name": "stderr",
     "output_type": "stream",
     "text": [
      "No handles with labels found to put in legend.\n"
     ]
    },
    {
     "data": {
      "image/png": "[encoded data removed]",
      "text/plain": [
       "<Figure size 432x288 with 1 Axes>"
      ]
     },
     "metadata": {
      "needs_background": "light"
     },
     "output_type": "display_data"
    }
   ],
   "source": [
    "# data visualization\n",
    "plt.plot(data['day'], data['control'])\n",
    "plt.plot(data['day'], data['exp'])\n",
    "plt.legend()\n",
    "\n",
    "plt.xlabel('Day of Experiment')\n",
    "plt.ylabel('Success rate');"
   ]
  },
  {
   "cell_type": "code",
   "execution_count": 192,
   "metadata": {},
   "outputs": [
    {
     "data": {
      "text/plain": [
       "0.08978271484375001"
      ]
     },
     "execution_count": 192,
     "metadata": {},
     "output_type": "execute_result"
    }
   ],
   "source": [
    "sign_test(data['control'], data['exp'], 'less')"
   ]
  },
  {
   "cell_type": "code",
   "execution_count": 189,
   "metadata": {},
   "outputs": [
    {
     "data": {
      "text/plain": [
       "WilcoxonResult(statistic=20.0, pvalue=0.020663429456250205)"
      ]
     },
     "execution_count": 189,
     "metadata": {},
     "output_type": "execute_result"
    }
   ],
   "source": [
    "stats.wilcoxon(data['control'], data['exp'],alternative ='less')"
   ]
  },
  {
   "cell_type": "code",
   "execution_count": 193,
   "metadata": {},
   "outputs": [
    {
     "data": {
      "text/plain": [
       "-0.09750000000000003"
      ]
     },
     "execution_count": 193,
     "metadata": {},
     "output_type": "execute_result"
    }
   ],
   "source": [
    "0.95*0.95-1"
   ]
  },
  {
   "attachments": {
    "image.png": {
     "image/png": "[encoded data removed]"
    }
   },
   "cell_type": "markdown",
   "metadata": {},
   "source": [
    "## Analyzing Multiple Metrics\n",
    "If you're tracking multiple evaluation metrics, make sure that you're aware of how the Type I error rates on individual metrics can affect the overall chance of making some kind of Type I error. The simplest case we can consider is if we have _n_ independent evaluation metrics, and that seeing one with a statistically significant result would be enough to call the manipulation a success. In this case, the probability of making at least one Type I error is given by $\\alpha_{over} = 1 - (1-\\alpha_{ind})^n$, illustrated in the below image for individual $\\alpha_{ind} = .05$ and $\\alpha_{ind} = .01$:\n",
    "\n",
    "![image.png](attachment:image.png)\n",
    "\n",
    "To protect against this, we need to introduce a correction factor on the individual test error rate so that the overall error rate is at most the desired level. A conservative approach is to divide the overall error rate by the number of metrics tested:\n",
    "\n",
    "$$\\alpha_{ind} = \\alpha_{over}/n$$\n",
    "\n",
    "This is known as the **Bonferroni correction**. If we assume independence between metrics, we can do a little bit better with the Šidák correction:\n",
    "\n",
    "$$\\alpha_{ind} = 1-(1-\\alpha_{over})^{1/n}$$ \n"
   ]
  },
  {
   "attachments": {
    "image.png": {
     "image/png": "[encoded data removed]"
    }
   },
   "cell_type": "markdown",
   "metadata": {},
   "source": [
    "\n",
    "\n",
    "\n",
    "![image.png](attachment:image.png)\n",
    "\n",
    "#### The Šidák correction is only slightly higher than the line drawn by the Bonferroni correction.\n",
    "In real life, evaluation scenarios are rarely so straightforward. Metrics will likely be correlated in some way, rather than being independent. If a positive correlation exists, then knowing the outcome of one metric will make it more likely for a correlated metric to also point in the same way. In this case, the corrections above will be more conservative than necessary, resulting in an overall error rate smaller than the desired level. (In cases of negative correlation, the true error rate could go either way, depending on the types of tests performed.)\n",
    "\n",
    "In addition, we might need multiple metrics to show statistical significance to call an experiment a success, or there may be different degrees of success depending on which metrics appear to be moved by the manipulation. One metric may not be enough to make it worth deploying a change tested in an experiment. Reducing the individual error rate will make it harder for a truly significant effect to show up as statistically significant. That is, reducing the Type I error rate will also increase the Type II error rate – another conservative shift.\n",
    "\n",
    "Ultimately, there is a small balancing act when it comes to selecting an error-controlling scheme. Being fully conservative with one of the simple corrections above means that you increase the risk of failing to roll out changes that actually have an impact on metrics. Consider the level of dependence between metrics and what results are needed to declare a success to calibrate the right balance in error rates. If you need to see a significant change in all of your metrics to proceed with it, you might not need a correction factor at all. You can also use dummy test results, bootstrapping, and permutation approaches to plan significance thresholds. **Finally, don't forget that practical significance can be an all-important quality that overrides other statistical significance findings**.\n",
    "\n",
    "While the main focus of this page has been on interpretation of evaluation metrics, it's worth noting that these cautions also apply to invariant metrics. The more invariant metrics you test, the more likely it will be that some test will show a statistically significant difference even if the groups tested are drawn from equivalent populations. However, it might not be a good idea to apply a correction factor to individual tests since we want to avoid larger issues with interpretation later on. As mentioned previously, a single invariant metric showing a statistically significant difference is not necessarily cause for alarm, but it is something that merits follow-up in case it does have an effect on our analysis."
   ]
  },
  {
   "cell_type": "markdown",
   "metadata": {},
   "source": [
    "# Early Stopping\n",
    "\n",
    "If you peek at the results of an experiment before data collection is complete, and choose to stop early because the test is showing statistical significance, you run the risk of a significant increase in your Type I error rate: believing that your experiment had an effect, when in fact it did not. In this notebook, you'll duplicate the assertions made in the video: namely that for an experiment based off of a single traditional statistical test, doing a single peek halfway through the run-time will increase a base Type I error rate from 5% to about 8.6%."
   ]
  },
  {
   "cell_type": "code",
   "execution_count": 194,
   "metadata": {},
   "outputs": [],
   "source": [
    "import numpy as np\n",
    "import scipy.stats as stats"
   ]
  },
  {
   "cell_type": "markdown",
   "metadata": {},
   "source": [
    "The simulation function below uses a bernoulli / binomial success model for the outcome metric, measuring against a historic baseline. That is, each observation is a single coin flip with success probability \"p\". If we see a number of successes that is unusual for our baseline value of \"p\", then we declare a statistically significant result. We will divide the experiment length into multiple 'blocks', checking the status of the experiment after each block is complete. Our outputs of interest are the proportion of trials that are statistically significant in _any_ test, and the proportion of trials that are statistically significant after _each_ individual block.\n",
    "\n",
    "There are three main steps to filling out the `peeking_sim()` function.\n",
    "\n",
    "1. Simulate some data\n",
    " - Compute the number of trials per block. For simplicity, just round up any fractions so that each block has the same number of trials: we might end up with slightly more trials per block than the corresponding function parameter.\n",
    " - Generate a data matrix with the number of successes observed in each block: the number of rows should be the number of simulations and the number of columns the number of blocks. You can do this with a single call to numpy's [`random.binomial`](https://docs.scipy.org/doc/numpy/reference/generated/numpy.random.binomial.html) function.\n",
    "2. Compute z-scores at each 'peek'\n",
    " - For each row, compute the cumulative number of successes after each 'block' of the experiment using numpy's [`cumsum`](https://docs.scipy.org/doc/numpy/reference/generated/numpy.cumsum.html) function. The result should be a matrix with the same dimensions as the data, but each column cumulatively adds up the values in each row up to that point.\n",
    " - Compute the expected mean and standard deviation for the number of successes after each 'block' of the experiment. Remember that this will be based on the [binomial distribution](https://en.wikipedia.org/wiki/Binomial_distribution) and is centered on the raw counts, rather than proportion of successes. It'll be useful to create a vector with the cumulative sum of trials after each block to facilitate these calculations.\n",
    " - Use the cumulative counts, the expected counts, and the standard deviations, to compute the z-scores for each peek at the experiment.\n",
    "3. Aggregate test outcomes\n",
    " - Compute a critical z-value using the supposed Type I error rate. Use this critical value to flag which of the z-scores would be counted as statistically significant, and which would not.\n",
    " - The proportion of trials that are significant at _any_ test will be the proportion of rows that have at least one flagged value. The proportion of trials that are significant at _each_ block will be the mean number of flagged values in each column; this will be a 1-d array. Return both of these values as the output of the function."
   ]
  },
  {
   "cell_type": "code",
   "execution_count": 197,
   "metadata": {},
   "outputs": [],
   "source": [
    "def peeking_sim(alpha = .05, p = .5, n_trials = 1000, n_blocks = 2, n_sims = 10000):\n",
    "    \"\"\"\n",
    "    This function simulates the rate of Type I errors made if an early\n",
    "    stopping decision is made based on a significant result when peeking ahead.\n",
    "    \n",
    "    Input parameters:\n",
    "        alpha: Supposed Type I error rate\n",
    "        p: Probability of individual trial success\n",
    "        n_trials: Number of trials in a full experiment\n",
    "        n_blocks: Number of times data is looked at (including end)\n",
    "        n_sims: Number of simulated experiments run\n",
    "        \n",
    "    Return:\n",
    "        p_sig_any: Proportion of simulations significant at any check point, \n",
    "        p_sig_each: Proportion of simulations significant at each check point\n",
    "    \"\"\"\n",
    "    \n",
    "    # generate data\n",
    "    trials_per_block = np.ceil(n_trials / n_blocks).astype(int)\n",
    "    data = np.random.binomial(trials_per_block, p, [n_sims, n_blocks])\n",
    "    \n",
    "    # standardize data\n",
    "    data_cumsum = np.cumsum(data,axis=1)\n",
    "    block_sizes = trials_per_block * np.arange(1, n_blocks+1, 1)\n",
    "    block_means = block_sizes * p\n",
    "    block_sds   = np.sqrt(p * (1 - p) * block_sizes)\n",
    "    data_zscores = (data_cumsum - block_means) / block_sds\n",
    "    \n",
    "    # test outcomes\n",
    "    z_crit = stats.norm.ppf(1 - alpha / 2)\n",
    "    sig_flags = np.abs(data_zscores) > z_crit\n",
    "    p_sig_any = (sig_flags.sum(axis = 1) > 0).mean()\n",
    "    p_sig_each = sig_flags.mean(axis = 0)\n",
    "    \n",
    "    return (p_sig_any, p_sig_each)\n",
    "    "
   ]
  },
  {
   "cell_type": "markdown",
   "metadata": {},
   "source": [
    "Running the function on the default parameters as given should return a tuple of results where the probability of any significant test outcome across the two blocks is around 8.6% and the probability of a significant test outcome at each individual block checkpoint is around 5%. Increase the number of trials and number of simulations to get more accurate estimates. You should also see how the overall Type I error rate increases with additional peeks!\n"
   ]
  },
  {
   "cell_type": "code",
   "execution_count": 198,
   "metadata": {
    "scrolled": true
   },
   "outputs": [
    {
     "data": {
      "text/plain": [
       "(0.0905, array([0.0558, 0.0526]))"
      ]
     },
     "execution_count": 198,
     "metadata": {},
     "output_type": "execute_result"
    }
   ],
   "source": [
    "peeking_sim()"
   ]
  },
  {
   "cell_type": "markdown",
   "metadata": {},
   "source": [
    "\n",
    "## Break the function down, to see the steps"
   ]
  },
  {
   "cell_type": "code",
   "execution_count": 201,
   "metadata": {},
   "outputs": [],
   "source": [
    "alpha = .05\n",
    "p = .5\n",
    "n_trials = 1000\n",
    "n_blocks = 2\n",
    "n_sims = 10000"
   ]
  },
  {
   "cell_type": "code",
   "execution_count": 202,
   "metadata": {},
   "outputs": [
    {
     "data": {
      "text/plain": [
       "500"
      ]
     },
     "execution_count": 202,
     "metadata": {},
     "output_type": "execute_result"
    }
   ],
   "source": [
    "# get the trails every block (if we have 1000 trails, and have 2 observes, so, \n",
    "# 500 trail in the middle, and 500 trails from the begining to the end)\n",
    "trials_per_block = np.ceil(n_trials / n_blocks).astype(int)\n",
    "trials_per_block"
   ]
  },
  {
   "cell_type": "code",
   "execution_count": 203,
   "metadata": {},
   "outputs": [
    {
     "data": {
      "text/plain": [
       "array([[257, 250],\n",
       "       [242, 252],\n",
       "       [243, 238],\n",
       "       ...,\n",
       "       [253, 255],\n",
       "       [243, 240],\n",
       "       [249, 249]])"
      ]
     },
     "execution_count": 203,
     "metadata": {},
     "output_type": "execute_result"
    }
   ],
   "source": [
    "# simulate this 1000 trails\n",
    "data = np.random.binomial(trials_per_block, p, [n_sims, n_blocks])\n",
    "data\n"
   ]
  },
  {
   "cell_type": "code",
   "execution_count": 204,
   "metadata": {},
   "outputs": [
    {
     "data": {
      "text/plain": [
       "array([[257, 507],\n",
       "       [242, 494],\n",
       "       [243, 481],\n",
       "       ...,\n",
       "       [253, 508],\n",
       "       [243, 483],\n",
       "       [249, 498]])"
      ]
     },
     "execution_count": 204,
     "metadata": {},
     "output_type": "execute_result"
    }
   ],
   "source": [
    "# get the cummulate sum along the column axis,(add in rows)\n",
    "data_cumsum = np.cumsum(data,axis=1)\n",
    "data_cumsum\n"
   ]
  },
  {
   "cell_type": "code",
   "execution_count": 205,
   "metadata": {},
   "outputs": [
    {
     "data": {
      "text/plain": [
       "array([ 500, 1000])"
      ]
     },
     "execution_count": 205,
     "metadata": {},
     "output_type": "execute_result"
    }
   ],
   "source": [
    "# get n of two observations\n",
    "block_sizes = trials_per_block * np.arange(1, n_blocks+1, 1)\n",
    "block_sizes"
   ]
  },
  {
   "cell_type": "code",
   "execution_count": 206,
   "metadata": {},
   "outputs": [
    {
     "data": {
      "text/plain": [
       "array([250., 500.])"
      ]
     },
     "execution_count": 206,
     "metadata": {},
     "output_type": "execute_result"
    }
   ],
   "source": [
    "# get mean of two observations\n",
    "block_means = block_sizes * p\n",
    "block_means"
   ]
  },
  {
   "cell_type": "code",
   "execution_count": 207,
   "metadata": {},
   "outputs": [
    {
     "data": {
      "text/plain": [
       "array([11.18033989, 15.8113883 ])"
      ]
     },
     "execution_count": 207,
     "metadata": {},
     "output_type": "execute_result"
    }
   ],
   "source": [
    "# get stdv of two observations\n",
    "block_sds = np.sqrt(p * (1 - p) * block_sizes)\n",
    "block_sds"
   ]
  },
  {
   "cell_type": "code",
   "execution_count": 208,
   "metadata": {},
   "outputs": [
    {
     "data": {
      "text/plain": [
       "array([[ 0.62609903,  0.44271887],\n",
       "       [-0.71554175, -0.37947332],\n",
       "       [-0.62609903, -1.20166551],\n",
       "       ...,\n",
       "       [ 0.26832816,  0.50596443],\n",
       "       [-0.62609903, -1.0751744 ],\n",
       "       [-0.08944272, -0.12649111]])"
      ]
     },
     "execution_count": 208,
     "metadata": {},
     "output_type": "execute_result"
    }
   ],
   "source": [
    "# get z-score\n",
    "data_zscores = (data_cumsum - block_means) / block_sds\n",
    "data_zscores"
   ]
  },
  {
   "cell_type": "code",
   "execution_count": 209,
   "metadata": {},
   "outputs": [
    {
     "data": {
      "text/plain": [
       "1.959963984540054"
      ]
     },
     "execution_count": 209,
     "metadata": {},
     "output_type": "execute_result"
    }
   ],
   "source": [
    "# get two tiled z_crit\n",
    "z_crit = stats.norm.ppf(1 - alpha / 2)\n",
    "z_crit"
   ]
  },
  {
   "cell_type": "code",
   "execution_count": 210,
   "metadata": {},
   "outputs": [
    {
     "data": {
      "text/plain": [
       "array([[False, False],\n",
       "       [False, False],\n",
       "       [False, False],\n",
       "       ...,\n",
       "       [False, False],\n",
       "       [False, False],\n",
       "       [False, False]])"
      ]
     },
     "execution_count": 210,
     "metadata": {},
     "output_type": "execute_result"
    }
   ],
   "source": [
    "sig_flags = np.abs(data_zscores) > z_crit\n",
    "sig_flags"
   ]
  },
  {
   "cell_type": "code",
   "execution_count": 212,
   "metadata": {},
   "outputs": [
    {
     "data": {
      "text/plain": [
       "array([False, False, False, ..., False, False, False])"
      ]
     },
     "execution_count": 212,
     "metadata": {},
     "output_type": "execute_result"
    }
   ],
   "source": [
    "p_sig_any = (sig_flags.sum(axis = 1) > 0)\n",
    "p_sig_any"
   ]
  },
  {
   "cell_type": "code",
   "execution_count": 215,
   "metadata": {},
   "outputs": [
    {
     "data": {
      "text/plain": [
       "array([0.058 , 0.0548])"
      ]
     },
     "execution_count": 215,
     "metadata": {},
     "output_type": "execute_result"
    }
   ],
   "source": [
    "p_sig_each = sig_flags.mean(axis = 0)\n",
    "p_sig_each"
   ]
  },
  {
   "cell_type": "markdown",
   "metadata": {},
   "source": [
    "actual rate is 0.058"
   ]
  },
  {
   "cell_type": "code",
   "execution_count": 213,
   "metadata": {},
   "outputs": [
    {
     "data": {
      "text/plain": [
       "0.0914"
      ]
     },
     "execution_count": 213,
     "metadata": {},
     "output_type": "execute_result"
    }
   ],
   "source": [
    "p_sig_any.mean()"
   ]
  },
  {
   "cell_type": "markdown",
   "metadata": {},
   "source": [
    "total true rate is 9.14%, this increase the p-value"
   ]
  },
  {
   "cell_type": "markdown",
   "metadata": {},
   "source": [
    "## A Multiple Comparisons Approach to Early Peeking\n",
    "\n",
    "The safest way we could deal with performing multiple checks and making poor early stopping decisions is to simply not do it. Once an experiment has been planned and all assignment procedures checked, you should just let the experiment run to completion and just assess the results at the very end. That's not to say that you can't perform early stopping, but it does require additional planning.\n",
    "\n",
    "One way in which you could solve for multiple peeking is to adjust the significance level of individual tests so that the overall error rate is at its desired level. **But applying the Bonferroni or Šidák corrections as shown earlier in the lesson will definitely be too conservative, since we know that there is a correlation in test results between peeks**. If we see some simulated run with z-score above the threshold at the halfway point, it's more likely to be above that threshold at the end point, compared to some other simulated run that is not statistically significant at the halfway point. One way in which we can obtain a better significance threshold is through the power of simulation. After performing the same steps 1 and 2 above, we want to find a significance level that would call our desired proportion of simulated tests as statistically significant:\n",
    "\n",
    "1. Simulate some data (as above)\n",
    "2. Compute z-scores at each 'peek' (as above)\n",
    "3. Obtain required individual-test error rate\n",
    "  - A run is considered statistically significant if it exceeds the critical bounds at _any_ peek. Obtain the maximum z-score from each row as a worst-case scenario for a null run to be falsely rejected.\n",
    "  - Find the z-score threshold that would reject our desired overall Type I error rate.\n",
    "  - Convert that z-score into an equivalent individual-test error rate."
   ]
  },
  {
   "cell_type": "code",
   "execution_count": 216,
   "metadata": {},
   "outputs": [],
   "source": [
    "def peeking_correction(alpha = .05, p = .5, n_trials = 1000, n_blocks = 2, n_sims = 10000):\n",
    "    \"\"\"\n",
    "    This function uses simulations to estimate the individual error rate necessary\n",
    "    to limit the Type I error rate, if an early stopping decision is made based on\n",
    "    a significant result when peeking ahead.\n",
    "    \n",
    "    Input parameters:\n",
    "        alpha: Desired overall Type I error rate\n",
    "        p: Probability of individual trial success\n",
    "        n_trials: Number of trials in a full experiment\n",
    "        n_blocks: Number of times data is looked at (including end)\n",
    "        n_sims: Number of simulated experiments run\n",
    "        \n",
    "    Return:\n",
    "        alpha_ind: Individual error rate required to achieve overall error rate\n",
    "    \"\"\"\n",
    "    \n",
    "    # generate data\n",
    "    # You can copy the code from the previous function.\n",
    "    trials_per_block = np.ceil(n_trials / n_blocks).astype(int)\n",
    "    data = np.random.binomial(trials_per_block, p, [n_sims, n_blocks])\n",
    "    \n",
    "    # standardize data\n",
    "    # You can copy the code from the previous function.\n",
    "    data_cumsum = np.cumsum(data,axis=1)\n",
    "    block_sizes = trials_per_block * np.arange(1, n_blocks+1, 1)\n",
    "    block_means = block_sizes * p\n",
    "    block_sds   = np.sqrt(p * (1 - p) * block_sizes)\n",
    "    data_zscores = (data_cumsum - block_means) / block_sds\n",
    "    \n",
    "    # find necessary individual error rate\n",
    "    max_zscores = np.abs(data_zscores).max(axis = 1)\n",
    "    z_crit_ind = np.percentile(max_zscores, 100 * (1 - alpha))\n",
    "    alpha_ind = 2 * (1 - stats.norm.cdf(z_crit_ind))\n",
    "    \n",
    "    return alpha_ind"
   ]
  },
  {
   "cell_type": "markdown",
   "metadata": {},
   "source": [
    "Running the function on the default parameters should give a required individual error rate of about .029. Note how this is somewhat higher than the .025 or .0253 that would have been generated from the Bonferroni and Šidák corrections, respectively. Test with a higher number of simulations and trials to get more accurate estimates, and try out different numbers of blocks to see how it changes the individual error rate needed. The results should approximately match up with the numbers given in the table in the middle of [this article](https://www.evanmiller.org/how-not-to-run-an-ab-test.html); note that peeking $n$ times means splitting the experiment into $n + 1$ blocks."
   ]
  },
  {
   "cell_type": "code",
   "execution_count": 217,
   "metadata": {},
   "outputs": [
    {
     "data": {
      "text/plain": [
       "0.02941431013863638"
      ]
     },
     "execution_count": 217,
     "metadata": {},
     "output_type": "execute_result"
    }
   ],
   "source": [
    "peeking_correction(n_trials = 10_000, n_sims = 100_000)"
   ]
  },
  {
   "cell_type": "code",
   "execution_count": 220,
   "metadata": {},
   "outputs": [
    {
     "data": {
      "text/plain": [
       "array([0.62609903, 0.71554175, 1.20166551, ..., 0.50596443, 1.0751744 ,\n",
       "       0.12649111])"
      ]
     },
     "execution_count": 220,
     "metadata": {},
     "output_type": "execute_result"
    }
   ],
   "source": [
    "max_zscores = np.abs(data_zscores).max(axis = 1)\n",
    "max_zscores"
   ]
  },
  {
   "cell_type": "code",
   "execution_count": 221,
   "metadata": {},
   "outputs": [
    {
     "data": {
      "text/plain": [
       "2.213594362117866"
      ]
     },
     "execution_count": 221,
     "metadata": {},
     "output_type": "execute_result"
    }
   ],
   "source": [
    "z_crit_ind = np.percentile(max_zscores, 100 * (1 - alpha))\n",
    "z_crit_ind"
   ]
  },
  {
   "cell_type": "markdown",
   "metadata": {},
   "source": [
    "## Early Stopping\n",
    "As the above workspace shows, there are significant risks for peeking ahead and making an early decision if it is not planned for in the design. If you haven't accounted for the effects of peeking on your error rate, then it's best to resist the temptation to look at the results early, and only perform a final analysis at the end of the experiment. This is another reason why it's important to design an experiment ahead of any data collection.\n",
    "\n",
    "Note that there are ways of putting together a design to allow for making an early decision on an experiment. In the workspace, we showed how to treat the problem like a multiple comparisons problem, adjusting the individual test-wise error rate to preserve an overall error rate. For continuous tracking, this page describes a rule of thumb for rate-based metrics, tracking the number of successes in each group and stopping the experiment once the counts' sum or difference exceeds some threshold. More generally, tests like the [sequential probability ratio test](https://en.wikipedia.org/wiki/Sequential_probability_ratio_test) can be developed to make an early stopping decision while an experiment is running, if it looks statistically unlikely for a metric to move past or fall back against the statistical significance bound."
   ]
  },
  {
   "cell_type": "markdown",
   "metadata": {},
   "source": [
    "# Lesson 4: A/B testing case studying"
   ]
  },
  {
   "cell_type": "markdown",
   "metadata": {},
   "source": [
    "## Scenario Description\n",
    "Let's say that you're working for a fictional productivity software company that is looking for ways to increase the number of people who pay for their software. The way that the software is currently set up, users can download and use the software free of charge, for a 7-day trial. After the end of the trial, users are required to pay for a license to continue using the software.\n",
    "\n",
    "One idea that the company wants to try is to change the layout of the homepage to emphasize more prominently and higher up on the page that there is a 7-day trial available for the company's software. The current fear is that some potential users are missing out on using the software because of a lack of awareness of the trial period. If more people download the software and use it in the trial period, the hope is that this entices more people to make a purchase after seeing what the software can do.\n",
    "\n",
    "In this case study, you'll go through steps for planning out an experiment to test the new homepage. You will start by constructing a user funnel and deciding on metrics to track. You'll also perform experiment sizing to see how long it should be run. Afterwards, you'll be given some data collected for the experiment, perform statistical tests to analyze the results, and come to conclusions regarding how effective the new homepage changes were for bringing in more users."
   ]
  },
  {
   "cell_type": "markdown",
   "metadata": {},
   "source": [
    "## Building a Funnel\n",
    "Before we do anything else, the first thing we should do is specify the objective or goal of our study:\n",
    "\n",
    "```\n",
    "Revising the structure of the homepage will increase the number of people that download the software and, ultimately, the number of people that purchase a license.\n",
    "```\n",
    "\n",
    "Now, we should think about the activities that a user will take on the site that are relevant to measuring our objective. This path or funnel will help us figure out how we will create experimental condition groups and which metrics we'll need to track to measure the experiment's effect. To help you construct the funnel, here's some information about the way the company's website is structured, and how the software induces users to purchase a license.\n",
    "\n",
    "The company's website has five main sections:\n",
    "\n",
    "1. the homepage;\n",
    "2. a section with additional information, gallery, and examples;\n",
    "3. a page for users to download the software;\n",
    "4. a page for users to purchase a license; and\n",
    "5. a support sub-site with documentation and FAQs for the software.\n",
    "\n",
    "For the software itself, the website requires that users create an account in order to download the software program. The program is usable freely for seven days after download. When the trial period is hit, the program will bring up a dialog box that takes the user to the license page. After purchasing a license, the user will receive a unique code associated with their site account. This code can then be used with the program to register it with that user, and the program can be used thereafter without issue.\n",
    "\n",
    "Using the information above, fill in your responses to the questions below regarding the construction of a user funnel, then check on the next page for my thoughts.\n",
    "\n",
    "### An expected flow\n",
    "A straightforward flow might include the following steps:\n",
    "\n",
    "- Visit homepage\n",
    "- Visit download page\n",
    "- Sign up for an account\n",
    "- Download software\n",
    "- After 7-day trial, software takes user to license-purchase page\n",
    "- Purchase license\n",
    "\n",
    "Note that it is possible for the visitor to drop from the flow after each step, forming a funnel. There might be additional steps that a user might take between visiting the homepage and visiting the download page that aren't accounted for in the above flow. For example, someone might want to check out the additional informational pages before visiting the download page, or even visit the license purchase page to check the license price before even deciding to download. Considering the amount of browsing that a visitor could perform on the page, it might be simplest just to track whether or not a user gets to the download page at some point, without worrying about the many paths that they could have taken to get there.\n",
    "\n",
    "### Atypical events\n",
    "There are a few events in the expected flow that might not correspond with the visitors we want to target. For example, there might be users on the homepage who aren't new users. Users who already have a license might just be visiting the homepage as a way to access the support sub-site. A user who wants to buy a license might also come in to the license page through the homepage, rather than directly from the software.\n",
    "\n",
    "When it comes to license purchasing, it's possible that users don't come back after exactly seven days. Some users might come back early and make their purchase during their trial period. Alternatively, a user might end up taking more than seven days to decide to make their purchase, coming back days after the end of the trial. Anticipating scenarios like this can be useful for planning the design, and coming up with metrics that come as close as possible to measuring desired effects."
   ]
  },
  {
   "cell_type": "markdown",
   "metadata": {},
   "source": [
    "## Deciding on Metrics\n",
    "From our user funnel, we should consider two things: where and how we should split users into experiment groups, and what metrics we will use to track the success or failure of the experimental manipulation. The choice of unit of diversion (the point at which we divide observations into groups) may affect what metrics we can use, and whether the metrics we record should be considered invariant or evaluation metrics. To start, decide on a unit of diversion and brainstorm some ideas for metrics to capture.\n",
    "\n",
    "To be clear, the overall plan is to test the effect of the new homepage using a true experiment; in particular, we'll be using an A/B testing framework. This means that prospective users should be split into two groups. The control, or 'A' group, will see the old homepage, while the experimental, or 'B' group, will see the new homepage that emphasizes the 7-day trial.\n",
    "\n",
    "### diversion method\n",
    "_A cookie-based diversion seems best in this case for dividing visitors into experimental groups since we can split visitors on their initial visit and it's fairly reliable for tracking._\n",
    "\n",
    "Three main categories of diversion were presented in the course: event-based diversion, cookie-based diversion, and account-based diversion.\n",
    "\n",
    "An event-based diversion (like a pageview) can provide many observations to draw conclusions from, but doesn't quite hit the mark for this case. If the condition changes on each pageview, then a visitor might get a different experience on each homepage visit. Event-based diversion is much better when the changes aren't as easily visible to users, to avoid disruption of experience. In addition, pageview-based diversion would let us know how many times the download page was accessed from each condition, but can't go any further in tracking how many actual downloads were generated from each condition.\n",
    "\n",
    "Diverting based on account or user ID can be stable, but it's not the right choice in this case. Since visitors only register after getting to the download page, this is too late to introduce the new homepage to people who should be assigned to the experimental condition.\n",
    "\n",
    "So this leaves the consideration of cookie-based diversion, which feels like the right choice. We can assign a cookie to each visitor upon their first page hit, which allows them to be separated into the control and experimental groups. Cookies also allow tracking of each visitor hitting each page, recording whether or not they eventually hit the download page and then whether or not they actually register an account and perform the download.\n",
    "\n",
    "That's not to say that the cookie-based diversion is perfect. The usual cookie-based diversion issues apply: we can get some inconsistency in counts if users enter the site via incognito window, different browsers, or cookies that expire or get deleted before they make a download. This kind of assignment 'dilution' could dampen the true effect of our experimental manipulation. As a simplification, however, we'll assume that this kind of assignment dilution will be small, and ignore its potential effects.\n",
    "\n",
    "### Brainstorm Potential Metrics\n",
    "In terms of metrics, we might want to keep track of the number of cookies that are recorded in different parts of the website. In particular, the number of cookies on the homepage, download page, and account registration page (in order to actually make the download) could prove useful. We can track the number of licenses purchased through the user accounts, each of which can be linked back to a particular condition. Though it hasn't been specified, it's also possible that the software includes usage statistics that we could track.\n",
    "\n",
    "The above metrics are all based on absolute counts. We could instead perform our analysis on ratios of those counts. For example, we could be interested in the proportion of downloads out of all homepage visits. License purchases could be stated as a ratio against the number of registered users (downloads) or the original number of cookies.\n",
    "\n",
    "### we can use: Number of cookies @ homepage as inariant metric; Ratio: # downloads / # cookie and Ratio: # licenses / # cookies as evaluation metric\n",
    "\n",
    "There's one invariant metric that really stands out here, and that's the number of cookies that hit the homepage. If we've done things correctly, each visitor should have an equal chance of seeing each homepage, and that means that the number of cookies assigned to each group should be about the same. Since visitors come in without any additional information (e.g. account info) and the change effected by the experimental manipulation comes in right at the start, there aren't other invariant metrics we should worry about.\n",
    "\n",
    "Selecting evaluation metrics is a trickier proposition. Count-based metrics at other parts of the process seem like natural choices: the number of times the software was downloaded and the number of licenses purchased are exactly what we want to change with the new homepage. The issue is that even though we expect the number of cookies assigned to each group to be about the same, it's much more likely than not they they won't be exactly the same. Instead, we should prefer using the download rate (# downloads / # cookies) and purchase rate (# licenses / # cookies) relative to the number of cookies as evaluation metrics. Using these ratios allows us to account for slight imbalances between groups.\n",
    "\n",
    "As for the other proposed metrics, the ratio between the number of licenses and number of downloads is potentially interesting, but not as direct as the other two ratios discussed above. It's possible that the manipulation increases both the number of downloads and number of licenses, but increases the former to a much higher rate. In this case, the licenses-to-downloads ratio might be worse off for the new homepage compared to the old, even though the new homepage has our desired effects. There's no such inconsistency issue with the ratios that use the number of cookies in the denominator.\n",
    "\n",
    "Product usage statistics like the average time the software was used in the trial period are potentially interesting features, but aren't directly related to our experiment. We might not have a strong feeling about what kind of effect the homepage will have on people that actually download the software. Stated differently, product usage isn't a direct target of the homepage manipulation. Certainly, these statistics might help us dig deeper into the reasons for observed effects after an experiment is complete. They might even point toward future changes and experiments to conduct. But in terms of experiment success, product usage shouldn't be considered an invariant or evaluation metric."
   ]
  },
  {
   "cell_type": "markdown",
   "metadata": {},
   "source": [
    "## Experiment Sizing\n",
    "Now that we have our main metrics selected: number of cookies as an invariant metric, and the download rate and license purchase rate (relative to number of cookies) as evaluation metrics, we should take a look at the feasibility of the experiment in terms of the amount of time it will take to run. We can use historical data as a baseline to see what it might take to detect our desired levels of change.\n",
    "\n",
    "Recent history shows that there are about 3250 unique visitors per day, with slightly more visitors on Friday through Monday, than the rest of the week. There are about 520 software downloads per day (a .16 rate) and about 65 licenses purchased each day (a .02 rate). In an ideal case, both the download rate and license purchase rate should increase with the new homepage; a statistically significant negative change should be a sign to not deploy the homepage change. However, if only one of our metrics shows a statistically significant positive change we should be happy enough to deploy the new homepage.\n",
    "\n",
    "Because we have two evaluation metrics of interest, we should make sure that we are choosing an appropriate significance level to conduct each test, in order to preserve a maximum overall Type I error rate of .05. Since we would be happy to deploy the new homepage if either download rate or license purchase rate showed a statistically significant increase, performing both individual tests at a .05 error rate carries the risk of making too many Type I errors. As such, **we'll apply the Bonferroni correction to run each test at a .025 error rate** so as to protect against making too many errors. If it were the case that we needed to see both metrics with a statistically significant increase, then we wouldn't need to include the correction on the individual tests.\n",
    "\n",
    "Let's say that we want to detect an increase of 50 downloads per day (up to 570 per day, or a .175 rate). How many days of data would we need to collect in order to get enough visitors to detect this new rate at an overall 5% Type I error rate and at 80% power?"
   ]
  },
  {
   "cell_type": "code",
   "execution_count": 266,
   "metadata": {},
   "outputs": [],
   "source": [
    "def experiment_size(p_null, p_alt, alpha = .05, beta = .20):\n",
    "    \"\"\"\n",
    "    Compute the minimum number of samples needed to achieve a desired power\n",
    "    level for a given effect size.\n",
    "    \n",
    "    Input parameters:\n",
    "        p_null: base success rate under null hypothesis\n",
    "        p_alt : desired success rate to be detected\n",
    "        alpha : Type-I error rate\n",
    "        beta  : Type-II error rate\n",
    "    \n",
    "    Output value:\n",
    "        n : Number of samples required for each group to obtain desired power\n",
    "    \"\"\"\n",
    "    \n",
    "    # Get necessary z-scores and standard deviations (@ 1 obs per group)\n",
    "    z_null = stats.norm.ppf(1-alpha)\n",
    "    z_alt  = stats.norm.ppf(beta)\n",
    "    sd_null = np.sqrt(p_null*(1-p_null) + p_null*(1-p_null))\n",
    "    sd_alt  = np.sqrt(p_null*(1-p_null) + p_alt*(1-p_alt))\n",
    "    \n",
    "    # Compute and return minimum sample size\n",
    "    n = ((z_null * sd_null - z_alt * sd_alt) / (p_alt - p_null)) ** 2\n",
    "    return np.ceil(n)"
   ]
  },
  {
   "cell_type": "code",
   "execution_count": 267,
   "metadata": {},
   "outputs": [
    {
     "data": {
      "text/plain": [
       "9016.0"
      ]
     },
     "execution_count": 267,
     "metadata": {},
     "output_type": "execute_result"
    }
   ],
   "source": [
    "experiment_size(0.16, 570/3250, alpha = .05/2, beta = .20)"
   ]
  },
  {
   "cell_type": "code",
   "execution_count": 268,
   "metadata": {},
   "outputs": [
    {
     "data": {
      "text/plain": [
       "5.548307692307692"
      ]
     },
     "execution_count": 268,
     "metadata": {},
     "output_type": "execute_result"
    }
   ],
   "source": [
    "9016.0/(3250/2)"
   ]
  },
  {
   "cell_type": "markdown",
   "metadata": {},
   "source": [
    "We need 6 days\n",
    "\n",
    "What if we wanted to detect an increase of 10 license purchases per day (up to 75 per day, or a .023 rate). How many days of data would we need to collect in order to get enough visitors to detect this new rate at an overall 5% Type I error rate and at 80% power?"
   ]
  },
  {
   "cell_type": "code",
   "execution_count": 269,
   "metadata": {},
   "outputs": [
    {
     "data": {
      "text/plain": [
       "33223.0"
      ]
     },
     "execution_count": 269,
     "metadata": {},
     "output_type": "execute_result"
    }
   ],
   "source": [
    "experiment_size(0.02, 75/3250, alpha = .05/2, beta = .20)"
   ]
  },
  {
   "cell_type": "code",
   "execution_count": 270,
   "metadata": {},
   "outputs": [
    {
     "data": {
      "text/plain": [
       "20.444923076923075"
      ]
     },
     "execution_count": 270,
     "metadata": {},
     "output_type": "execute_result"
    }
   ],
   "source": [
    "33223.0 /(3250/2)"
   ]
  },
  {
   "cell_type": "markdown",
   "metadata": {},
   "source": [
    "We need 21 days\n"
   ]
  },
  {
   "cell_type": "markdown",
   "metadata": {},
   "source": [
    "One thing that isn't accounted for in the base experiment length calculations is that there is going to be a delay between when users download the software and when they actually purchase a license. That is, when we start the experiment, there could be about seven days before a user account associated with a cookie actually comes back to make their purchase. Any purchases observed within the first week might not be attributable to either experimental condition. As a way of accounting for this, we'll run the experiment for about one week longer to allow those users who come in during the third week a chance to come back and be counted in the license purchases tally.\n",
    "\n",
    "## Validity, Bias, and Ethics\n",
    "Before getting to the data and its analysis, let's review a few of the conceptual points that go into creation of an experiment: validity, bias, and ethics.\n",
    "\n",
    "We probably don't have too much to worry about in terms of validity. For conceptual validity, the evaluation metrics are directly aligned with the experimental goals, no abstraction needed. Internal validity is maintained by performing an experiment with properly-handled randomization and controls. We don't really need to answer to external validity since we're drawing from the full site population and there's no other population we're looking to generalize to.\n",
    "\n",
    "As for biases, we might think of novelty bias as being a potential issue. However, we don't expect users to come back to the homepage regularly. Downloading and license purchasing are actions we expect to only occur once per user, so there's no real 'return rate' to worry about. One possibility, however, is that if more people download the software under the new homepage, the expanded user base is qualitatively different from the people who came to the page under the original homepage. This might cause more homepage hits from people looking for the support pages on the site, causing the number of unique cookies under each condition to differ. If we do see something wrong or out of place in the invariant metric (number of cookies), then this might be an area to explore in further investigations.\n",
    "\n",
    "Finally, for ethical issues, the changes to the homepage should be benign and present no risk to users. Our experiment objectives are also clearly stated. Considering the low risks of the experiment, informed consent is at worst a minor concern; a standard popup to let visitors know that cookies are used to track user experience on the site will likely suffice. The largest ethics principle we should be concerned about is data sensitivity. **We shouldn't get any sensitive data out of the cookie assignment and collection**, though some information will be collected from the user when they go to download the software. No sensitive data is required for the metrics we've laid out, so what we should do is just aggregate daily visits, downloads, and purchase counts without looking at any individual outcomes."
   ]
  },
  {
   "cell_type": "markdown",
   "metadata": {},
   "source": [
    "## Analyze Data\n",
    "Let's assume that the experiment was given the green light to go ahead, and data was collected for 29 days. As a reminder of the discussion on experiment sizing, it was found that a three-week period was needed to collect enough visitors to achieve our desired power level. Eight additional days of collection were added to allow visitors in the last week to complete their trials and come back to make a purchase – if you look at the data linked in the next paragraph, you will see that it takes about eight days before the license purchases reaches its steady level.\n",
    "\n",
    "The collected data can be found here. The data file reports the daily counts for the number of unique cookies, number of downloads, and number of license purchases attributed to each group: the experimental group with the new homepage, or the control group with the old homepage. The number of license purchases only includes purchases by users who joined after the start of the experiment, so there will be some time before the counts reach their steady state. As noted earlier, we'll assume that the potentially muddying effects of visits across multiple days, established user visits, and 'lost' cookie tracking will be ignorable, at least unless we find reason to doubt our findings.\n",
    "\n",
    "## Invariant Metric\n",
    "First, we should check our invariant metric, the number of cookies assigned to each group. If there is a statistically significant difference detected, then we shouldn't move on to the evaluation metrics right away. We'd need to first dig deeper to see if there was an issue with the group-assignment procedure, or if there is something about the manipulation that affected the number of cookies observed, before we feel secure about analyzing and interpreting the evaluation metrics.\n",
    "\n",
    "### What is the p-value for the test on the number of cookies assigned to each group?"
   ]
  },
  {
   "cell_type": "code",
   "execution_count": 272,
   "metadata": {},
   "outputs": [],
   "source": [
    "import pandas as pd\n",
    "import numpy as np\n",
    "import scipy.stats as stats\n",
    "import matplotlib.pyplot as plt\n",
    "\n",
    "%matplotlib inline"
   ]
  },
  {
   "cell_type": "code",
   "execution_count": 319,
   "metadata": {
    "scrolled": true
   },
   "outputs": [
    {
     "data": {
      "text/html": [
       "<div>\n",
       "<style scoped>\n",
       "    .dataframe tbody tr th:only-of-type {\n",
       "        vertical-align: middle;\n",
       "    }\n",
       "\n",
       "    .dataframe tbody tr th {\n",
       "        vertical-align: top;\n",
       "    }\n",
       "\n",
       "    .dataframe thead th {\n",
       "        text-align: right;\n",
       "    }\n",
       "</style>\n",
       "<table border=\"1\" class=\"dataframe\">\n",
       "  <thead>\n",
       "    <tr style=\"text-align: right;\">\n",
       "      <th></th>\n",
       "      <th>Day</th>\n",
       "      <th>Control Cookies</th>\n",
       "      <th>Control Downloads</th>\n",
       "      <th>Control Licenses</th>\n",
       "      <th>Experiment Cookies</th>\n",
       "      <th>Experiment Downloads</th>\n",
       "      <th>Experiment Licenses</th>\n",
       "    </tr>\n",
       "  </thead>\n",
       "  <tbody>\n",
       "    <tr>\n",
       "      <th>0</th>\n",
       "      <td>1</td>\n",
       "      <td>1764</td>\n",
       "      <td>246</td>\n",
       "      <td>1</td>\n",
       "      <td>1850</td>\n",
       "      <td>339</td>\n",
       "      <td>3</td>\n",
       "    </tr>\n",
       "    <tr>\n",
       "      <th>1</th>\n",
       "      <td>2</td>\n",
       "      <td>1541</td>\n",
       "      <td>234</td>\n",
       "      <td>2</td>\n",
       "      <td>1590</td>\n",
       "      <td>281</td>\n",
       "      <td>2</td>\n",
       "    </tr>\n",
       "    <tr>\n",
       "      <th>2</th>\n",
       "      <td>3</td>\n",
       "      <td>1457</td>\n",
       "      <td>240</td>\n",
       "      <td>1</td>\n",
       "      <td>1515</td>\n",
       "      <td>274</td>\n",
       "      <td>1</td>\n",
       "    </tr>\n",
       "    <tr>\n",
       "      <th>3</th>\n",
       "      <td>4</td>\n",
       "      <td>1587</td>\n",
       "      <td>224</td>\n",
       "      <td>1</td>\n",
       "      <td>1541</td>\n",
       "      <td>284</td>\n",
       "      <td>2</td>\n",
       "    </tr>\n",
       "    <tr>\n",
       "      <th>4</th>\n",
       "      <td>5</td>\n",
       "      <td>1606</td>\n",
       "      <td>253</td>\n",
       "      <td>2</td>\n",
       "      <td>1643</td>\n",
       "      <td>292</td>\n",
       "      <td>3</td>\n",
       "    </tr>\n",
       "    <tr>\n",
       "      <th>5</th>\n",
       "      <td>6</td>\n",
       "      <td>1681</td>\n",
       "      <td>287</td>\n",
       "      <td>3</td>\n",
       "      <td>1780</td>\n",
       "      <td>299</td>\n",
       "      <td>3</td>\n",
       "    </tr>\n",
       "    <tr>\n",
       "      <th>6</th>\n",
       "      <td>7</td>\n",
       "      <td>1534</td>\n",
       "      <td>262</td>\n",
       "      <td>5</td>\n",
       "      <td>1555</td>\n",
       "      <td>276</td>\n",
       "      <td>8</td>\n",
       "    </tr>\n",
       "    <tr>\n",
       "      <th>7</th>\n",
       "      <td>8</td>\n",
       "      <td>1798</td>\n",
       "      <td>331</td>\n",
       "      <td>12</td>\n",
       "      <td>1787</td>\n",
       "      <td>326</td>\n",
       "      <td>20</td>\n",
       "    </tr>\n",
       "    <tr>\n",
       "      <th>8</th>\n",
       "      <td>9</td>\n",
       "      <td>1478</td>\n",
       "      <td>223</td>\n",
       "      <td>30</td>\n",
       "      <td>1553</td>\n",
       "      <td>298</td>\n",
       "      <td>38</td>\n",
       "    </tr>\n",
       "    <tr>\n",
       "      <th>9</th>\n",
       "      <td>10</td>\n",
       "      <td>1461</td>\n",
       "      <td>236</td>\n",
       "      <td>32</td>\n",
       "      <td>1458</td>\n",
       "      <td>289</td>\n",
       "      <td>23</td>\n",
       "    </tr>\n",
       "    <tr>\n",
       "      <th>10</th>\n",
       "      <td>11</td>\n",
       "      <td>1478</td>\n",
       "      <td>240</td>\n",
       "      <td>35</td>\n",
       "      <td>1555</td>\n",
       "      <td>279</td>\n",
       "      <td>36</td>\n",
       "    </tr>\n",
       "    <tr>\n",
       "      <th>11</th>\n",
       "      <td>12</td>\n",
       "      <td>1529</td>\n",
       "      <td>228</td>\n",
       "      <td>23</td>\n",
       "      <td>1567</td>\n",
       "      <td>267</td>\n",
       "      <td>34</td>\n",
       "    </tr>\n",
       "    <tr>\n",
       "      <th>12</th>\n",
       "      <td>13</td>\n",
       "      <td>1700</td>\n",
       "      <td>273</td>\n",
       "      <td>30</td>\n",
       "      <td>1793</td>\n",
       "      <td>349</td>\n",
       "      <td>32</td>\n",
       "    </tr>\n",
       "    <tr>\n",
       "      <th>13</th>\n",
       "      <td>14</td>\n",
       "      <td>1668</td>\n",
       "      <td>286</td>\n",
       "      <td>35</td>\n",
       "      <td>1619</td>\n",
       "      <td>308</td>\n",
       "      <td>31</td>\n",
       "    </tr>\n",
       "    <tr>\n",
       "      <th>14</th>\n",
       "      <td>15</td>\n",
       "      <td>1822</td>\n",
       "      <td>306</td>\n",
       "      <td>33</td>\n",
       "      <td>1775</td>\n",
       "      <td>300</td>\n",
       "      <td>32</td>\n",
       "    </tr>\n",
       "    <tr>\n",
       "      <th>15</th>\n",
       "      <td>16</td>\n",
       "      <td>1463</td>\n",
       "      <td>234</td>\n",
       "      <td>31</td>\n",
       "      <td>1606</td>\n",
       "      <td>279</td>\n",
       "      <td>29</td>\n",
       "    </tr>\n",
       "    <tr>\n",
       "      <th>16</th>\n",
       "      <td>17</td>\n",
       "      <td>1573</td>\n",
       "      <td>252</td>\n",
       "      <td>32</td>\n",
       "      <td>1551</td>\n",
       "      <td>295</td>\n",
       "      <td>36</td>\n",
       "    </tr>\n",
       "    <tr>\n",
       "      <th>17</th>\n",
       "      <td>18</td>\n",
       "      <td>1603</td>\n",
       "      <td>260</td>\n",
       "      <td>33</td>\n",
       "      <td>1607</td>\n",
       "      <td>281</td>\n",
       "      <td>27</td>\n",
       "    </tr>\n",
       "    <tr>\n",
       "      <th>18</th>\n",
       "      <td>19</td>\n",
       "      <td>1596</td>\n",
       "      <td>263</td>\n",
       "      <td>29</td>\n",
       "      <td>1625</td>\n",
       "      <td>289</td>\n",
       "      <td>29</td>\n",
       "    </tr>\n",
       "    <tr>\n",
       "      <th>19</th>\n",
       "      <td>20</td>\n",
       "      <td>1817</td>\n",
       "      <td>320</td>\n",
       "      <td>35</td>\n",
       "      <td>1780</td>\n",
       "      <td>315</td>\n",
       "      <td>23</td>\n",
       "    </tr>\n",
       "    <tr>\n",
       "      <th>20</th>\n",
       "      <td>21</td>\n",
       "      <td>1602</td>\n",
       "      <td>271</td>\n",
       "      <td>38</td>\n",
       "      <td>1588</td>\n",
       "      <td>256</td>\n",
       "      <td>44</td>\n",
       "    </tr>\n",
       "    <tr>\n",
       "      <th>21</th>\n",
       "      <td>22</td>\n",
       "      <td>1743</td>\n",
       "      <td>277</td>\n",
       "      <td>29</td>\n",
       "      <td>1861</td>\n",
       "      <td>341</td>\n",
       "      <td>37</td>\n",
       "    </tr>\n",
       "    <tr>\n",
       "      <th>22</th>\n",
       "      <td>23</td>\n",
       "      <td>1631</td>\n",
       "      <td>249</td>\n",
       "      <td>26</td>\n",
       "      <td>1517</td>\n",
       "      <td>272</td>\n",
       "      <td>35</td>\n",
       "    </tr>\n",
       "    <tr>\n",
       "      <th>23</th>\n",
       "      <td>24</td>\n",
       "      <td>1489</td>\n",
       "      <td>241</td>\n",
       "      <td>29</td>\n",
       "      <td>1466</td>\n",
       "      <td>279</td>\n",
       "      <td>31</td>\n",
       "    </tr>\n",
       "    <tr>\n",
       "      <th>24</th>\n",
       "      <td>25</td>\n",
       "      <td>1529</td>\n",
       "      <td>226</td>\n",
       "      <td>34</td>\n",
       "      <td>1609</td>\n",
       "      <td>284</td>\n",
       "      <td>29</td>\n",
       "    </tr>\n",
       "    <tr>\n",
       "      <th>25</th>\n",
       "      <td>26</td>\n",
       "      <td>1612</td>\n",
       "      <td>276</td>\n",
       "      <td>36</td>\n",
       "      <td>1574</td>\n",
       "      <td>295</td>\n",
       "      <td>38</td>\n",
       "    </tr>\n",
       "    <tr>\n",
       "      <th>26</th>\n",
       "      <td>27</td>\n",
       "      <td>1760</td>\n",
       "      <td>291</td>\n",
       "      <td>42</td>\n",
       "      <td>1666</td>\n",
       "      <td>297</td>\n",
       "      <td>28</td>\n",
       "    </tr>\n",
       "    <tr>\n",
       "      <th>27</th>\n",
       "      <td>28</td>\n",
       "      <td>1548</td>\n",
       "      <td>271</td>\n",
       "      <td>38</td>\n",
       "      <td>1587</td>\n",
       "      <td>314</td>\n",
       "      <td>37</td>\n",
       "    </tr>\n",
       "    <tr>\n",
       "      <th>28</th>\n",
       "      <td>29</td>\n",
       "      <td>1781</td>\n",
       "      <td>254</td>\n",
       "      <td>33</td>\n",
       "      <td>1728</td>\n",
       "      <td>290</td>\n",
       "      <td>41</td>\n",
       "    </tr>\n",
       "  </tbody>\n",
       "</table>\n",
       "</div>"
      ],
      "text/plain": [
       "    Day  Control Cookies  Control Downloads  Control Licenses  \\\n",
       "0     1             1764                246                 1   \n",
       "1     2             1541                234                 2   \n",
       "2     3             1457                240                 1   \n",
       "3     4             1587                224                 1   \n",
       "4     5             1606                253                 2   \n",
       "5     6             1681                287                 3   \n",
       "6     7             1534                262                 5   \n",
       "7     8             1798                331                12   \n",
       "8     9             1478                223                30   \n",
       "9    10             1461                236                32   \n",
       "10   11             1478                240                35   \n",
       "11   12             1529                228                23   \n",
       "12   13             1700                273                30   \n",
       "13   14             1668                286                35   \n",
       "14   15             1822                306                33   \n",
       "15   16             1463                234                31   \n",
       "16   17             1573                252                32   \n",
       "17   18             1603                260                33   \n",
       "18   19             1596                263                29   \n",
       "19   20             1817                320                35   \n",
       "20   21             1602                271                38   \n",
       "21   22             1743                277                29   \n",
       "22   23             1631                249                26   \n",
       "23   24             1489                241                29   \n",
       "24   25             1529                226                34   \n",
       "25   26             1612                276                36   \n",
       "26   27             1760                291                42   \n",
       "27   28             1548                271                38   \n",
       "28   29             1781                254                33   \n",
       "\n",
       "    Experiment Cookies  Experiment Downloads  Experiment Licenses  \n",
       "0                 1850                   339                    3  \n",
       "1                 1590                   281                    2  \n",
       "2                 1515                   274                    1  \n",
       "3                 1541                   284                    2  \n",
       "4                 1643                   292                    3  \n",
       "5                 1780                   299                    3  \n",
       "6                 1555                   276                    8  \n",
       "7                 1787                   326                   20  \n",
       "8                 1553                   298                   38  \n",
       "9                 1458                   289                   23  \n",
       "10                1555                   279                   36  \n",
       "11                1567                   267                   34  \n",
       "12                1793                   349                   32  \n",
       "13                1619                   308                   31  \n",
       "14                1775                   300                   32  \n",
       "15                1606                   279                   29  \n",
       "16                1551                   295                   36  \n",
       "17                1607                   281                   27  \n",
       "18                1625                   289                   29  \n",
       "19                1780                   315                   23  \n",
       "20                1588                   256                   44  \n",
       "21                1861                   341                   37  \n",
       "22                1517                   272                   35  \n",
       "23                1466                   279                   31  \n",
       "24                1609                   284                   29  \n",
       "25                1574                   295                   38  \n",
       "26                1666                   297                   28  \n",
       "27                1587                   314                   37  \n",
       "28                1728                   290                   41  "
      ]
     },
     "execution_count": 319,
     "metadata": {},
     "output_type": "execute_result"
    }
   ],
   "source": [
    "df = pd.read_csv('homepage-experiment-data.csv')\n",
    "df"
   ]
  },
  {
   "cell_type": "code",
   "execution_count": 301,
   "metadata": {},
   "outputs": [
    {
     "data": {
      "text/plain": [
       "46851"
      ]
     },
     "execution_count": 301,
     "metadata": {},
     "output_type": "execute_result"
    }
   ],
   "source": [
    "# H0 is the times of obserzation in both group has no signifigent difference\n",
    "n_obs = df[['Control Cookies','Experiment Cookies']].sum().sum()\n",
    "n_controls = df['Control Cookies'].sum()\n",
    "n_controls"
   ]
  },
  {
   "cell_type": "code",
   "execution_count": 300,
   "metadata": {},
   "outputs": [
    {
     "data": {
      "text/plain": [
       "(47098.5, 153.4576488807254)"
      ]
     },
     "execution_count": 300,
     "metadata": {},
     "output_type": "execute_result"
    }
   ],
   "source": [
    "# Compute binomial distribution mean and stdev\n",
    "p = 0.5\n",
    "mean = n_obs * p\n",
    "sd = np.sqrt(p*(1-p)*n_obs)\n",
    "\n",
    "(mean, sd)"
   ]
  },
  {
   "cell_type": "code",
   "execution_count": 303,
   "metadata": {},
   "outputs": [
    {
     "name": "stdout",
     "output_type": "stream",
     "text": [
      "-1.6128228329131302\n"
     ]
    }
   ],
   "source": [
    "# standardlize the control number\n",
    "z = (n_controls - mean)/sd\n",
    "print(z)"
   ]
  },
  {
   "cell_type": "code",
   "execution_count": 305,
   "metadata": {},
   "outputs": [
    {
     "data": {
      "text/plain": [
       "0.05339150200938156"
      ]
     },
     "execution_count": 305,
     "metadata": {},
     "output_type": "execute_result"
    }
   ],
   "source": [
    "# get the probability of less than z value\n",
    "stats.norm.cdf(z)"
   ]
  },
  {
   "cell_type": "code",
   "execution_count": 306,
   "metadata": {},
   "outputs": [
    {
     "data": {
      "text/plain": [
       "0.10678300401876312"
      ]
     },
     "execution_count": 306,
     "metadata": {},
     "output_type": "execute_result"
    }
   ],
   "source": [
    "# compute the p-value\n",
    "p_value = 2 * stats.norm.cdf(z)\n",
    "p_value"
   ]
  },
  {
   "cell_type": "markdown",
   "metadata": {},
   "source": [
    "### Evaluation Metrics\n",
    "Assuming that the invariant metric passed inspection, we can move on to the evaluation metrics: download rate and license purchasing rate. For a refresher, the download rate is the total number of downloads divided by the number of cookies, and the license purchasing rate the number of licenses divided by the number of cookies.\n",
    "\n",
    "One tricky point to consider is that there is a seven or eight day delay between when most people download the software and when they make a purchase. There's no direct way of attributing cookies all the way through license purchases due to the daily aggregation of results, so the best we can do is to make a justified argument for handling the data. To answer the question below about the license purchasing rate, you should only take the cookies observed through day 21 as the denominator of the ratio as being responsible for all of the license purchases observed. (A more informed model of license purchasing could come up with a different handling of the data, such as including part of the day 22 cookies in the denominator.) (Note that we don't need to perform this kind of correction for the download rate, since the link between homepage visits and downloads is much closer.)"
   ]
  },
  {
   "cell_type": "markdown",
   "metadata": {},
   "source": [
    "### Analytic Approach\n",
    "\n",
    "actually, analytic approach is to get the simulation approach's mean and standard error directly.\n",
    "$$ z = \\frac{(\\hat{p_1}-\\hat{p_2})-(p_1-p_2)}{\\sqrt{\\hat{p}(1-\\hat{p})(1/n_1+1/n_2)}}$$\n",
    "$$\\hat{p} = \\frac{Y_1+Y_2}{n_1+n_2} = p\\_null$$\n",
    "\n",
    "we assume $p_1-p_2$ = 0\n",
    "\n"
   ]
  },
  {
   "cell_type": "code",
   "execution_count": 318,
   "metadata": {},
   "outputs": [
    {
     "data": {
      "text/plain": [
       "(0.180543234908968, 0.16123455209067042)"
      ]
     },
     "execution_count": 318,
     "metadata": {},
     "output_type": "execute_result"
    }
   ],
   "source": [
    "n_control = df['Control Cookies'].sum()\n",
    "n_exper = df['Experiment Cookies'].sum()\n",
    "p_null = (df['Control Downloads'].sum() + df['Experiment Downloads'].sum())/(n_control + n_exper)\n",
    "\n",
    "df['Experiment Downloads'].sum()/n_exper , df['Control Downloads'].sum()/n_control\n"
   ]
  },
  {
   "cell_type": "code",
   "execution_count": 315,
   "metadata": {},
   "outputs": [
    {
     "data": {
      "text/plain": [
       "0.0024531940948456393"
      ]
     },
     "execution_count": 315,
     "metadata": {},
     "output_type": "execute_result"
    }
   ],
   "source": [
    "se_p = np.sqrt(p_null * (1-p_null) * (1/n_control + 1/n_exper))\n",
    "se_p"
   ]
  },
  {
   "cell_type": "code",
   "execution_count": 316,
   "metadata": {},
   "outputs": [
    {
     "data": {
      "text/plain": [
       "7.870833726066236"
      ]
     },
     "execution_count": 316,
     "metadata": {},
     "output_type": "execute_result"
    }
   ],
   "source": [
    "diff = df['Experiment Downloads'].sum()/n_exper - df['Control Downloads'].sum()/n_control\n",
    "z = diff/se_p\n",
    "z"
   ]
  },
  {
   "cell_type": "code",
   "execution_count": 317,
   "metadata": {},
   "outputs": [
    {
     "data": {
      "text/plain": [
       "1.7763568394002505e-15"
      ]
     },
     "execution_count": 317,
     "metadata": {},
     "output_type": "execute_result"
    }
   ],
   "source": [
    "p_value = 1-stats.norm.cdf(z)\n",
    "p_value"
   ]
  },
  {
   "cell_type": "markdown",
   "metadata": {},
   "source": [
    "there was an extremely convincing effect. An absolute increase from 0.1612 to 0.1805 results in a z-score of 7.87, well beyond any standard significance bound. "
   ]
  },
  {
   "cell_type": "markdown",
   "metadata": {},
   "source": [
    "What is the p-value for the test on the license purchasing rate between groups?\n",
    "\n",
    " you should only take the cookies observed through day 21 as the denominator of the ratio as being responsible for all of the license purchases observed"
   ]
  },
  {
   "cell_type": "code",
   "execution_count": 320,
   "metadata": {},
   "outputs": [
    {
     "data": {
      "text/html": [
       "<div>\n",
       "<style scoped>\n",
       "    .dataframe tbody tr th:only-of-type {\n",
       "        vertical-align: middle;\n",
       "    }\n",
       "\n",
       "    .dataframe tbody tr th {\n",
       "        vertical-align: top;\n",
       "    }\n",
       "\n",
       "    .dataframe thead th {\n",
       "        text-align: right;\n",
       "    }\n",
       "</style>\n",
       "<table border=\"1\" class=\"dataframe\">\n",
       "  <thead>\n",
       "    <tr style=\"text-align: right;\">\n",
       "      <th></th>\n",
       "      <th>Day</th>\n",
       "      <th>Control Cookies</th>\n",
       "      <th>Control Downloads</th>\n",
       "      <th>Control Licenses</th>\n",
       "      <th>Experiment Cookies</th>\n",
       "      <th>Experiment Downloads</th>\n",
       "      <th>Experiment Licenses</th>\n",
       "    </tr>\n",
       "  </thead>\n",
       "  <tbody>\n",
       "    <tr>\n",
       "      <th>0</th>\n",
       "      <td>1</td>\n",
       "      <td>1764</td>\n",
       "      <td>246</td>\n",
       "      <td>1</td>\n",
       "      <td>1850</td>\n",
       "      <td>339</td>\n",
       "      <td>3</td>\n",
       "    </tr>\n",
       "    <tr>\n",
       "      <th>1</th>\n",
       "      <td>2</td>\n",
       "      <td>1541</td>\n",
       "      <td>234</td>\n",
       "      <td>2</td>\n",
       "      <td>1590</td>\n",
       "      <td>281</td>\n",
       "      <td>2</td>\n",
       "    </tr>\n",
       "    <tr>\n",
       "      <th>2</th>\n",
       "      <td>3</td>\n",
       "      <td>1457</td>\n",
       "      <td>240</td>\n",
       "      <td>1</td>\n",
       "      <td>1515</td>\n",
       "      <td>274</td>\n",
       "      <td>1</td>\n",
       "    </tr>\n",
       "    <tr>\n",
       "      <th>3</th>\n",
       "      <td>4</td>\n",
       "      <td>1587</td>\n",
       "      <td>224</td>\n",
       "      <td>1</td>\n",
       "      <td>1541</td>\n",
       "      <td>284</td>\n",
       "      <td>2</td>\n",
       "    </tr>\n",
       "    <tr>\n",
       "      <th>4</th>\n",
       "      <td>5</td>\n",
       "      <td>1606</td>\n",
       "      <td>253</td>\n",
       "      <td>2</td>\n",
       "      <td>1643</td>\n",
       "      <td>292</td>\n",
       "      <td>3</td>\n",
       "    </tr>\n",
       "  </tbody>\n",
       "</table>\n",
       "</div>"
      ],
      "text/plain": [
       "   Day  Control Cookies  Control Downloads  Control Licenses  \\\n",
       "0    1             1764                246                 1   \n",
       "1    2             1541                234                 2   \n",
       "2    3             1457                240                 1   \n",
       "3    4             1587                224                 1   \n",
       "4    5             1606                253                 2   \n",
       "\n",
       "   Experiment Cookies  Experiment Downloads  Experiment Licenses  \n",
       "0                1850                   339                    3  \n",
       "1                1590                   281                    2  \n",
       "2                1515                   274                    1  \n",
       "3                1541                   284                    2  \n",
       "4                1643                   292                    3  "
      ]
     },
     "execution_count": 320,
     "metadata": {},
     "output_type": "execute_result"
    }
   ],
   "source": [
    "df.head()"
   ]
  },
  {
   "cell_type": "code",
   "execution_count": 333,
   "metadata": {},
   "outputs": [
    {
     "data": {
      "text/plain": [
       "(0.021175986842105265, 0.021317490826489604, 0.021032051661828307)"
      ]
     },
     "execution_count": 333,
     "metadata": {},
     "output_type": "execute_result"
    }
   ],
   "source": [
    "n_control_2 = df[df['Day']<=21]['Control Cookies'].sum()\n",
    "n_exper_2 = df[df['Day']<=21]['Experiment Cookies'].sum()\n",
    "buy_control = df['Control Licenses'].sum()\n",
    "buy_exper = df['Experiment Licenses'].sum()\n",
    "\n",
    "p_null_2 = (buy_control + buy_exper)/(n_control_2 + n_exper_2)\n",
    "p_null_2,buy_exper/n_exper_2,buy_control/n_control_2\n"
   ]
  },
  {
   "cell_type": "code",
   "execution_count": 334,
   "metadata": {},
   "outputs": [
    {
     "data": {
      "text/plain": [
       "0.0011034663277863619"
      ]
     },
     "execution_count": 334,
     "metadata": {},
     "output_type": "execute_result"
    }
   ],
   "source": [
    "se_p_2 = np.sqrt(p_null_2 * (1-p_null_2) * (1/n_control_2 + 1/n_exper_2))\n",
    "se_p_2"
   ]
  },
  {
   "cell_type": "code",
   "execution_count": 337,
   "metadata": {},
   "outputs": [
    {
     "data": {
      "text/plain": [
       "0.2586750111658684"
      ]
     },
     "execution_count": 337,
     "metadata": {},
     "output_type": "execute_result"
    }
   ],
   "source": [
    "diff_2 = buy_exper/n_exper_2 - buy_control/n_control_2\n",
    "z2 = diff_2/se_p_2\n",
    "z2\n"
   ]
  },
  {
   "cell_type": "code",
   "execution_count": 338,
   "metadata": {},
   "outputs": [
    {
     "data": {
      "text/plain": [
       "0.3979430008399871"
      ]
     },
     "execution_count": 338,
     "metadata": {},
     "output_type": "execute_result"
    }
   ],
   "source": [
    "p_value_2 = 1-stats.norm.cdf(z2)\n",
    "p_value_2"
   ]
  },
  {
   "cell_type": "markdown",
   "metadata": {},
   "source": [
    "## Draw Conclusions\n",
    "Despite the fact that statistical significance wasn't obtained for the number of licenses purchased, the new homepage appeared to have a strong effect on the number of downloads made. Based on our goals, this seems enough to suggest replacing the old homepage with the new homepage. Establishing whether there was a significant increase in the number of license purchases, either through the rate or the increase in the number of homepage visits, will need to wait for further experiments or data collection.\n",
    "\n",
    "One inference we might like to make is that the new homepage attracted new users who would not normally try out the program, but that these new users didn't convert to purchases at the same rate as the existing user base. This is a nice story to tell, but we can't actually say that with the data as given. In order to make this inference, we would need more detailed information about individual visitors that isn't available. However, if the software did have the capability of reporting usage statistics, that might be a way of seeing if certain profiles are more likely to purchase a license. This might then open additional ideas for improving revenue."
   ]
  },
  {
   "cell_type": "code",
   "execution_count": null,
   "metadata": {},
   "outputs": [],
   "source": []
  }
 ],
 "metadata": {
  "kernelspec": {
   "display_name": "Python 3",
   "language": "python",
   "name": "python3"
  },
  "language_info": {
   "codemirror_mode": {
    "name": "ipython",
    "version": 3
   },
   "file_extension": ".py",
   "mimetype": "text/x-python",
   "name": "python",
   "nbconvert_exporter": "python",
   "pygments_lexer": "ipython3",
   "version": "3.7.6"
  }
 },
 "nbformat": 4,
 "nbformat_minor": 4
}
